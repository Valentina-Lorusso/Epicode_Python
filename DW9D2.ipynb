{
 "cells": [
  {
   "cell_type": "code",
   "execution_count": 17,
   "id": "f99f36f7-b3d8-457e-aaa8-6b7b79a337f8",
   "metadata": {},
   "outputs": [],
   "source": [
    "studenti=25"
   ]
  },
  {
   "cell_type": "code",
   "execution_count": null,
   "id": "063c6c4f-5acc-497b-9611-e5165b89d3a3",
   "metadata": {},
   "outputs": [],
   "source": []
  },
  {
   "cell_type": "code",
   "execution_count": 1,
   "id": "688c57db-ff51-4f18-9b64-a9ae9362eb24",
   "metadata": {},
   "outputs": [
    {
     "name": "stdout",
     "output_type": "stream",
     "text": [
      "25\n"
     ]
    }
   ],
   "source": [
    "studenti=25\n",
    "print(studenti)"
   ]
  },
  {
   "cell_type": "code",
   "execution_count": null,
   "id": "c492a967-7661-476e-b7c7-85e86ff4fc1d",
   "metadata": {},
   "outputs": [],
   "source": []
  },
  {
   "cell_type": "code",
   "execution_count": null,
   "id": "128c22e7-eafd-4bb2-bc7d-53714ceaf93f",
   "metadata": {},
   "outputs": [],
   "source": [
    "studenti=25\n",
    "nuovi_studenti=3"
   ]
  },
  {
   "cell_type": "code",
   "execution_count": null,
   "id": "51ea1aeb-6cbd-48fd-a11a-77db9fc9e013",
   "metadata": {},
   "outputs": [],
   "source": []
  },
  {
   "cell_type": "code",
   "execution_count": 3,
   "id": "3910980f-4bfb-4960-9ad7-07bdf0d7e66c",
   "metadata": {},
   "outputs": [
    {
     "name": "stdout",
     "output_type": "stream",
     "text": [
      "28\n"
     ]
    }
   ],
   "source": [
    "studenti = 25\n",
    "nuovi_studenti = 3\n",
    "totale_studenti = studenti + nuovi_studenti\n",
    "print(totale_studenti)\n"
   ]
  },
  {
   "cell_type": "code",
   "execution_count": null,
   "id": "38f4fee7-e695-4a9c-870b-22261496eea9",
   "metadata": {},
   "outputs": [],
   "source": []
  },
  {
   "cell_type": "code",
   "execution_count": 9,
   "id": "35c5a0a6-6952-4853-9970-1b07c6f58386",
   "metadata": {},
   "outputs": [
    {
     "name": "stdout",
     "output_type": "stream",
     "text": [
      "Epicode\n"
     ]
    }
   ],
   "source": [
    "epicode= \"Epicode\"\n",
    "print(epicode)"
   ]
  },
  {
   "cell_type": "code",
   "execution_count": null,
   "id": "dc2cab2b-f806-4213-8757-3488b1413dad",
   "metadata": {},
   "outputs": [],
   "source": []
  },
  {
   "cell_type": "code",
   "execution_count": 13,
   "id": "29d86f41-9012-4cda-9fa5-3dc9c5b727f9",
   "metadata": {},
   "outputs": [
    {
     "data": {
      "text/plain": [
       "36"
      ]
     },
     "execution_count": 13,
     "metadata": {},
     "output_type": "execute_result"
    }
   ],
   "source": [
    "x=10\n",
    "(x+2)*3"
   ]
  },
  {
   "cell_type": "code",
   "execution_count": null,
   "id": "ab1d885c-872a-4082-8074-d75c8ad403c7",
   "metadata": {},
   "outputs": [],
   "source": []
  },
  {
   "cell_type": "code",
   "execution_count": 16,
   "id": "7470cbee-41a0-4c16-a4c3-936e6d677ab9",
   "metadata": {},
   "outputs": [
    {
     "name": "stdout",
     "output_type": "stream",
     "text": [
      "36\n"
     ]
    }
   ],
   "source": [
    "x=10\n",
    "x+=2\n",
    "x*=3\n",
    "print(x)"
   ]
  },
  {
   "cell_type": "code",
   "execution_count": null,
   "id": "142d0af2-3271-4cf0-899f-d19ffbdd7650",
   "metadata": {},
   "outputs": [],
   "source": []
  },
  {
   "cell_type": "code",
   "execution_count": 23,
   "id": "7551ebf9-9be4-4480-b451-65d4bd0d9c4f",
   "metadata": {},
   "outputs": [
    {
     "data": {
      "text/plain": [
       "7"
      ]
     },
     "execution_count": 23,
     "metadata": {},
     "output_type": "execute_result"
    }
   ],
   "source": [
    "str1= 'Windows'\n",
    "len(str1)"
   ]
  },
  {
   "cell_type": "code",
   "execution_count": 29,
   "id": "b8e1f5fb-a932-4578-9c69-d811c104327f",
   "metadata": {},
   "outputs": [
    {
     "data": {
      "text/plain": [
       "5"
      ]
     },
     "execution_count": 29,
     "metadata": {},
     "output_type": "execute_result"
    }
   ],
   "source": [
    "str2= 'Excel'\n",
    "len(str2)"
   ]
  },
  {
   "cell_type": "code",
   "execution_count": null,
   "id": "da6ee98a-663a-4575-9632-85ee6352b91f",
   "metadata": {},
   "outputs": [],
   "source": []
  },
  {
   "cell_type": "code",
   "execution_count": 33,
   "id": "9cf03a82-de0f-4f57-9ba8-b3a7c8f6b893",
   "metadata": {},
   "outputs": [
    {
     "data": {
      "text/plain": [
       "31536000"
      ]
     },
     "execution_count": 33,
     "metadata": {},
     "output_type": "execute_result"
    }
   ],
   "source": [
    "giorni_anno=365\n",
    "ore_giorno=24\n",
    "minuti_ora=60\n",
    "secondi_minuto=60\n",
    "secondi_minuto*minuti_ora*ore_giorno*giorni_anno"
   ]
  },
  {
   "cell_type": "code",
   "execution_count": null,
   "id": "b24ef412-694c-48af-b2c1-bc9276ee466b",
   "metadata": {},
   "outputs": [],
   "source": []
  },
  {
   "cell_type": "code",
   "execution_count": 38,
   "id": "2a9f81c0-4e29-4022-ba8a-307f6153e944",
   "metadata": {},
   "outputs": [
    {
     "data": {
      "text/plain": [
       "'I AM STUDYING PYTHON'"
      ]
     },
     "execution_count": 38,
     "metadata": {},
     "output_type": "execute_result"
    }
   ],
   "source": [
    "my_string = \"I am studying Python\" \n",
    "str.upper(my_string)"
   ]
  },
  {
   "cell_type": "code",
   "execution_count": 41,
   "id": "8f474619-5136-4cf6-8ac6-d7c9986860bb",
   "metadata": {},
   "outputs": [
    {
     "data": {
      "text/plain": [
       "'i am studying python'"
      ]
     },
     "execution_count": 41,
     "metadata": {},
     "output_type": "execute_result"
    }
   ],
   "source": [
    "str.lower(my_string)"
   ]
  },
  {
   "cell_type": "code",
   "execution_count": 44,
   "id": "af5457ac-fbc9-4ac0-9646-5bcb95c7cf0c",
   "metadata": {},
   "outputs": [
    {
     "data": {
      "text/plain": [
       "'I am studying a lot'"
      ]
     },
     "execution_count": 44,
     "metadata": {},
     "output_type": "execute_result"
    }
   ],
   "source": [
    "str.split(my_string)\n",
    "str(my_string).replace('Python', 'a lot')"
   ]
  },
  {
   "cell_type": "code",
   "execution_count": 47,
   "id": "7578a700-63cf-45bc-a0a3-17183e539abd",
   "metadata": {},
   "outputs": [
    {
     "data": {
      "text/plain": [
       "'I am studying Python'"
      ]
     },
     "execution_count": 47,
     "metadata": {},
     "output_type": "execute_result"
    }
   ],
   "source": [
    "str.strip(my_string)"
   ]
  },
  {
   "cell_type": "code",
   "execution_count": null,
   "id": "1a8b314b-2ed4-4038-8da1-3cb3865da12d",
   "metadata": {},
   "outputs": [],
   "source": []
  }
 ],
 "metadata": {
  "kernelspec": {
   "display_name": "Python 3 (ipykernel)",
   "language": "python",
   "name": "python3"
  },
  "language_info": {
   "codemirror_mode": {
    "name": "ipython",
    "version": 3
   },
   "file_extension": ".py",
   "mimetype": "text/x-python",
   "name": "python",
   "nbconvert_exporter": "python",
   "pygments_lexer": "ipython3",
   "version": "3.11.7"
  }
 },
 "nbformat": 4,
 "nbformat_minor": 5
}
