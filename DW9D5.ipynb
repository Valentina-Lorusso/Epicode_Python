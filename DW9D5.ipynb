{
 "cells": [
  {
   "cell_type": "markdown",
   "id": "f2155f5f-b4a8-4563-9d85-0732cc85810a",
   "metadata": {},
   "source": [
    "# Esercizio sulle liste\n",
    "## Aggiungere i dati mancanti alla lista corsi, sapendo che Emma segue Data Analyst Faith segue Backend Grace segue Frontend Henry segue Cybersecurity Aggiungeremo i dati mancanti uno alla volta con il metodo per appendere in coda alle liste, poi verificheremo che sono della stessa lunghezza e se lo sono stamperemo la lista corsi. "
   ]
  },
  {
   "cell_type": "code",
   "execution_count": 46,
   "id": "f3c4bd38-8db0-411e-bedf-f7672fb84e84",
   "metadata": {},
   "outputs": [],
   "source": [
    "studenti = [\"Alex\", \"Bob\", \"Cindy\", \"Dan\", \"Emma\", \"Faith\", \"Grace\", \"Henry\"] \n",
    "corsi = [\"Cybersecurity\", \"Data Analyst\", \"Backend\", \"Frontend\", \"Data Analyst\", \"Backend\"]"
   ]
  },
  {
   "cell_type": "code",
   "execution_count": 48,
   "id": "b8f089cf-37d8-4730-886c-ec248d2ee828",
   "metadata": {},
   "outputs": [
    {
     "data": {
      "text/plain": [
       "8"
      ]
     },
     "execution_count": 48,
     "metadata": {},
     "output_type": "execute_result"
    }
   ],
   "source": [
    "len(studenti) #conto quanti corsi"
   ]
  },
  {
   "cell_type": "code",
   "execution_count": 50,
   "id": "c95fa1dc-1d12-41c8-bb81-e883cf181e5b",
   "metadata": {},
   "outputs": [
    {
     "data": {
      "text/plain": [
       "6"
      ]
     },
     "execution_count": 50,
     "metadata": {},
     "output_type": "execute_result"
    }
   ],
   "source": [
    "len(corsi)   #conto quanti studenti (nr corsi diverso da nr studenti)"
   ]
  },
  {
   "cell_type": "code",
   "execution_count": 6,
   "id": "623f3b63-c360-41ad-9366-3164d47a4ac8",
   "metadata": {},
   "outputs": [],
   "source": [
    "corsi.append('Frontend') #aggiungo il corso richiesto"
   ]
  },
  {
   "cell_type": "code",
   "execution_count": 10,
   "id": "df460c37-4209-4148-add0-6dae1911d349",
   "metadata": {},
   "outputs": [],
   "source": [
    "corsi.append('Cybersecurity')  #aggiungo il corso richiesto"
   ]
  },
  {
   "cell_type": "code",
   "execution_count": 37,
   "id": "fc821f10-41ee-4f69-8a82-1f62609d5993",
   "metadata": {},
   "outputs": [
    {
     "data": {
      "text/plain": [
       "8"
      ]
     },
     "execution_count": 37,
     "metadata": {},
     "output_type": "execute_result"
    }
   ],
   "source": [
    "len(studenti)   #riconto studenti"
   ]
  },
  {
   "cell_type": "code",
   "execution_count": 12,
   "id": "8d1e6c9b-af5f-424c-a4d1-777998be337d",
   "metadata": {},
   "outputs": [
    {
     "data": {
      "text/plain": [
       "8"
      ]
     },
     "execution_count": 12,
     "metadata": {},
     "output_type": "execute_result"
    }
   ],
   "source": [
    "len(corsi)    #riconto corsi (stavolta nr studenti = nr corsi)"
   ]
  },
  {
   "cell_type": "code",
   "execution_count": 14,
   "id": "edfd18a8-c554-46a2-bc3c-1a1cc6b8670b",
   "metadata": {},
   "outputs": [
    {
     "data": {
      "text/plain": [
       "['Cybersecurity',\n",
       " 'Data Analyst',\n",
       " 'Backend',\n",
       " 'Frontend',\n",
       " 'Data Analyst',\n",
       " 'Backend',\n",
       " 'Frontend',\n",
       " 'Cybersecurity']"
      ]
     },
     "execution_count": 14,
     "metadata": {},
     "output_type": "execute_result"
    }
   ],
   "source": [
    "corsi    #stampo lista corsi"
   ]
  },
  {
   "cell_type": "markdown",
   "id": "0d6bd033-6b2a-4d7d-9866-6f9c56a22653",
   "metadata": {},
   "source": [
    "## Scriviamo un programma che chiede in input all'utente una stringa e visualizza i primi 3 caratteri, seguiti da 3 punti di sospensione e quindi gli ultimi 3 caratteri, similmente all'esercizio della lezione scorsa. Stavolta facciamo attenzione a tutti i casi particolari, ovvero implementare soluzioni ad hoc per stringhe di lunghezza inferiore a 6 caratteri."
   ]
  },
  {
   "cell_type": "code",
   "execution_count": 23,
   "id": "4d0f6f99-866e-472d-94c7-21d1aa74f810",
   "metadata": {},
   "outputs": [
    {
     "name": "stdin",
     "output_type": "stream",
     "text": [
      "Inserisci una parola e premi invio: Giraffa\n"
     ]
    },
    {
     "name": "stdout",
     "output_type": "stream",
     "text": [
      "Le prime tre lettere sono:\n",
      "Gir\n",
      "Le ultime tre lettere sono:\n",
      "ffa\n",
      "La parola abbreviata è:\n",
      "Gir...ffa\n"
     ]
    }
   ],
   "source": [
    "parola = input('Inserisci una parola e premi invio:')\n",
    "prime_lettere=parola[:3]\n",
    "ultime_lettere=parola[-3:]\n",
    "print('Le prime tre lettere sono:')\n",
    "print(prime_lettere)\n",
    "print('Le ultime tre lettere sono:')\n",
    "print(ultime_lettere)\n",
    "puntini='...'\n",
    "parola_abbreviata=prime_lettere+puntini+ultime_lettere\n",
    "print('La parola abbreviata è:')\n",
    "print(parola_abbreviata)"
   ]
  },
  {
   "cell_type": "markdown",
   "id": "ca2e6bbf-ebfe-4091-ac5c-b7ea8672de26",
   "metadata": {},
   "source": [
    "## Creiamo un dizionario che assegni ad ogni proprietario la sua auto, sapendo che: • Ada guida una Punto • Ben guida una Multipla • Charlie guida una Golf • Debbie guida una 107 Stampiamo il dizionario per intero, e poi l'auto associata a Debbie."
   ]
  },
  {
   "cell_type": "code",
   "execution_count": 29,
   "id": "ac34a074-15e1-4609-90e4-f833adb4c435",
   "metadata": {},
   "outputs": [],
   "source": [
    "#Definiamo le coppie attraverso un dizionario\n",
    "proprietari = {\n",
    "    'Ada':'Punto',\n",
    "    'Ben':'Multipla',\n",
    "    'Charlie':'Golf',\n",
    "    'Debbie':'107'\n",
    "}"
   ]
  },
  {
   "cell_type": "code",
   "execution_count": 31,
   "id": "6c71aaf3-206c-405a-a5af-0db96c824a01",
   "metadata": {},
   "outputs": [
    {
     "name": "stdout",
     "output_type": "stream",
     "text": [
      "{'Ada': 'Punto', 'Ben': 'Multipla', 'Charlie': 'Golf', 'Debbie': '107'}\n"
     ]
    }
   ],
   "source": [
    "#Visualizziamo le coppie chiave-valore\n",
    "print(proprietari)"
   ]
  },
  {
   "cell_type": "code",
   "execution_count": 35,
   "id": "8d92aad2-59e2-4ccb-9ff0-d115d5dbe04b",
   "metadata": {},
   "outputs": [
    {
     "data": {
      "text/plain": [
       "'107'"
      ]
     },
     "execution_count": 35,
     "metadata": {},
     "output_type": "execute_result"
    }
   ],
   "source": [
    "#Per selezionare l'auto associata a Debbie usiamo il dizionario come una lista di etichette e con [] selezioniamo l'etichetta Debbie che contiene il suo valore\n",
    "proprietari['Debbie']  "
   ]
  },
  {
   "cell_type": "markdown",
   "id": "78ea5ac4-563c-41e4-a656-d884ee3c555c",
   "metadata": {},
   "source": [
    "## Aggiornare il dizionario dizionario_auto con i dati contenuti in nuovi_proprietari e stamparlo. Cosa è successo a Ben?"
   ]
  },
  {
   "cell_type": "code",
   "execution_count": 60,
   "id": "e3a8ec7a-7dce-43e8-b02f-fca1c6bff779",
   "metadata": {},
   "outputs": [],
   "source": [
    "dizionario_auto = {\"Ada\": \"Punto\", \"Ben\": \"Multipla\", \"Charlie\": \"Golf\", \"Debbie\": \"107\", \"Emily\": \"A1\"}\n",
    "nuovi_proprietari = {\"Ben\": \"Polo\", \"Fred\": \"Octavia\", \"Grace\": \"Yaris\", \"Hugh\": \"Clio\"}"
   ]
  },
  {
   "cell_type": "code",
   "execution_count": 62,
   "id": "3cdeea85-7aa6-4c4a-bdfa-2ee6ca4a3968",
   "metadata": {},
   "outputs": [
    {
     "name": "stdout",
     "output_type": "stream",
     "text": [
      "{'Ada': 'Punto', 'Ben': 'Multipla', 'Charlie': 'Golf', 'Debbie': '107', 'Emily': 'A1'}\n"
     ]
    }
   ],
   "source": [
    "print(dizionario_auto)"
   ]
  },
  {
   "cell_type": "code",
   "execution_count": 58,
   "id": "cc1be28d-dfc9-4ae2-adc0-13119eb365a8",
   "metadata": {},
   "outputs": [
    {
     "name": "stdout",
     "output_type": "stream",
     "text": [
      "{'Ada': 'Punto', 'Ben': 'Polo', 'Charlie': 'Golf', 'Debbie': '107', 'Emily': 'A1', 'Fred': 'Octavia', 'Grace': 'Yaris', 'Hugh': 'Clio'}\n"
     ]
    }
   ],
   "source": [
    "dizionario_auto.update(nuovi_proprietari)  # .update(dizionario) è il corrispettivo di .append(liste)\n",
    "print(dizionario_auto)"
   ]
  },
  {
   "cell_type": "markdown",
   "id": "ddcdcfd9-1b65-4919-abba-292218cf6f08",
   "metadata": {},
   "source": [
    "## Scrivere un programma che, data una lista di numeri, fornisca in output il minimo e il massimo (possiamo usare o meno le funzioni built-in min() e max())."
   ]
  },
  {
   "cell_type": "code",
   "execution_count": 65,
   "id": "e5ee049c-df33-46ca-9f8f-55fc4f932ec5",
   "metadata": {},
   "outputs": [],
   "source": [
    "numeri=[10, 50, 90, 40, 30, 110, 70]"
   ]
  },
  {
   "cell_type": "code",
   "execution_count": 67,
   "id": "544499cf-a1b7-4787-80a6-3b014cece246",
   "metadata": {},
   "outputs": [
    {
     "data": {
      "text/plain": [
       "110"
      ]
     },
     "execution_count": 67,
     "metadata": {},
     "output_type": "execute_result"
    }
   ],
   "source": [
    "max(numeri)"
   ]
  },
  {
   "cell_type": "code",
   "execution_count": 69,
   "id": "9ca7267d-94e6-42cf-99b5-480ed8a5917b",
   "metadata": {},
   "outputs": [
    {
     "data": {
      "text/plain": [
       "10"
      ]
     },
     "execution_count": 69,
     "metadata": {},
     "output_type": "execute_result"
    }
   ],
   "source": [
    "min(numeri)"
   ]
  },
  {
   "cell_type": "markdown",
   "id": "d186332c-13e2-48cc-a952-b307ee22f45e",
   "metadata": {},
   "source": [
    "## Scrivere un programma che, data una lista di numeri, fornisca in output i tre numeri più grandi; gestire il caso in cui la lista sia più corta di tre, e quando uno o più dei numeri selezionati sono uguali."
   ]
  },
  {
   "cell_type": "code",
   "execution_count": 78,
   "id": "455804dd-ffca-4af9-92ce-18e967549c67",
   "metadata": {},
   "outputs": [
    {
     "name": "stdout",
     "output_type": "stream",
     "text": [
      "110\n",
      "[10, 50, 90, 40, 30, 70]\n"
     ]
    }
   ],
   "source": [
    "numeri=[10, 50, 90, 40, 30, 110, 70]\n",
    "massimo=max(numeri)   #creo la variabile\n",
    "print(massimo)\n",
    "numeri.remove(massimo) #rimuovo il numero piu grande\n",
    "print(numeri)        #ristampo la lista aggiornata "
   ]
  },
  {
   "cell_type": "markdown",
   "id": "bbafc6fe-4566-4e92-bbcf-9fbd54b9484b",
   "metadata": {},
   "source": [
    "## Abbiamo una lista con i guadagni degli ultimi 12 mesi: guadagni = [100, 90, 70, 40, 50, 80, 90, 120, 80, 20, 50, 50] usando un costrutto for, calcolare la media dei guadagni e stamparla a video."
   ]
  },
  {
   "cell_type": "code",
   "execution_count": 21,
   "id": "5750a58e-ce55-4f47-a9cb-05480a0d664c",
   "metadata": {},
   "outputs": [
    {
     "name": "stdout",
     "output_type": "stream",
     "text": [
      "Risultato: 70.0\n"
     ]
    }
   ],
   "source": [
    "#dati di partenza\n",
    "guadagni=[100, 90, 70, 40, 50, 80, 90, 120, 80, 20, 50, 50]\n",
    "mesi=len(guadagni)\n",
    "\n",
    "#inizializzazione\n",
    "somma=0\n",
    "\n",
    "for guadagno in guadagni:\n",
    "    somma += guadagno\n",
    "\n",
    "risultato=somma/mesi\n",
    "print(\"Risultato:\", risultato)"
   ]
  },
  {
   "cell_type": "markdown",
   "id": "582329aa-ed0e-4991-91ce-0c50e2c791ee",
   "metadata": {},
   "source": [
    "## Abbiamo una lista di parole: parole = [\"Albergo\", \"Sedia\", \"Borgo\", \"Petalo\", \"Eremo\", \"Belvedere\", \"Semestre\", \"Esteta\", \"Sosta\", \"Orpello\", \"Abete\", \"Orologio\", \"Cesta\", \"Ermellino\"] stampiamo, per ogni parola, quante volte appare la lettera \"e\"; facciamo attenzione al fatto che appare sia maiuscola che minuscola."
   ]
  },
  {
   "cell_type": "code",
   "execution_count": 45,
   "id": "cbbf604f-ef2d-4ccc-b30a-6fc514e87ec2",
   "metadata": {},
   "outputs": [
    {
     "name": "stdout",
     "output_type": "stream",
     "text": [
      "Parola: Albergo ( 1 )\n",
      "Parola: Sedia ( 1 )\n",
      "Parola: Borgo ( 0 )\n",
      "Parola: Petalo ( 1 )\n",
      "Parola: Eremo ( 2 )\n",
      "Parola: Belvedere ( 4 )\n",
      "Parola: Semestre ( 3 )\n",
      "Parola: Esteta ( 2 )\n",
      "Parola: Sosta ( 0 )\n",
      "Parola: Orpello ( 1 )\n",
      "Parola: Abete ( 2 )\n",
      "Parola: Orologio ( 0 )\n",
      "Parola: Cesta ( 1 )\n",
      "Parola: Ermellino ( 2 )\n"
     ]
    }
   ],
   "source": [
    "#dati noti\n",
    "parole = [\"Albergo\", \"Sedia\", \"Borgo\", \"Petalo\", \"Eremo\", \n",
    "          \"Belvedere\", \"Semestre\", \"Esteta\", \"Sosta\", \n",
    "          \"Orpello\", \"Abete\", \"Orologio\", \"Cesta\", \"Ermellino\"]\n",
    "\n",
    "for parola in parole:\n",
    "\n",
    "    #init\n",
    "    contatore=0\n",
    "\n",
    "    for lettera in parola:\n",
    "        if lettera=='e' or lettera== 'E':\n",
    "            contatore+=1\n",
    "\n",
    "    print('Parola:', parola, '(',contatore,')')"
   ]
  },
  {
   "cell_type": "markdown",
   "id": "e00e1dec-421b-44c0-9257-9a8ab9e7f9aa",
   "metadata": {},
   "source": [
    "## lista_cf = [\"ABCDEF95G01A123B\", \"GHIJKL91M02A321C\", \"MNOPQR89S03A456D\", \"STUVWX95Z04A654E\", \"XYZABC01D05A789F\", \"DEFGHI95J06A987G\"] • trovare i codici fiscali che contengono \"95\", metterli in una lista, e alla fine stamparla; • inoltre, per ognuno di essi, stampare a video i caratteri relativi al nome e cognome"
   ]
  },
  {
   "cell_type": "code",
   "execution_count": 54,
   "id": "c0d90f4b-2f83-446e-ad51-eb29efaf0d1f",
   "metadata": {},
   "outputs": [
    {
     "name": "stdout",
     "output_type": "stream",
     "text": [
      "ABCDEF95G01A123B -nome: DEF -cognome: ABC\n",
      "STUVWX95Z04A654E -nome: VWX -cognome: STU\n",
      "DEFGHI95J06A987G -nome: GHI -cognome: DEF\n",
      "['ABCDEF95G01A123B', 'STUVWX95Z04A654E', 'DEFGHI95J06A987G']\n"
     ]
    }
   ],
   "source": [
    "lista_cf = [\"ABCDEF95G01A123B\", \"GHIJKL91M02A321C\", \"MNOPQR89S03A456D\", \n",
    "      \"STUVWX95Z04A654E\", \"XYZABC01D05A789F\", \"DEFGHI95J06A987G\"]\n",
    "lista_95=[]\n",
    "\n",
    "for cf in lista_cf:\n",
    "    if '95' in cf:\n",
    "       lista_95.append(cf)\n",
    "       caratteri_nome=cf[3:6]\n",
    "       caratteri_cognome=cf[:3]\n",
    "       print(cf,'-nome:', caratteri_nome, '-cognome:', caratteri_cognome)\n",
    "\n",
    "print(lista_95)"
   ]
  },
  {
   "cell_type": "code",
   "execution_count": null,
   "id": "4e58662c-5ca1-4cdd-9e7a-1bf9a3f0f419",
   "metadata": {},
   "outputs": [],
   "source": []
  }
 ],
 "metadata": {
  "kernelspec": {
   "display_name": "Python 3 (ipykernel)",
   "language": "python",
   "name": "python3"
  },
  "language_info": {
   "codemirror_mode": {
    "name": "ipython",
    "version": 3
   },
   "file_extension": ".py",
   "mimetype": "text/x-python",
   "name": "python",
   "nbconvert_exporter": "python",
   "pygments_lexer": "ipython3",
   "version": "3.11.7"
  }
 },
 "nbformat": 4,
 "nbformat_minor": 5
}
