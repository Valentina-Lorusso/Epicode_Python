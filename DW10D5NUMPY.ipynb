{
 "cells": [
  {
   "cell_type": "markdown",
   "id": "0ce4bf59-ca34-4596-9db9-6f5db3d858f5",
   "metadata": {},
   "source": [
    "## Avendo lista di liste, usiamo CASTING per creare array in 'np'"
   ]
  },
  {
   "cell_type": "code",
   "execution_count": 6,
   "id": "82f416f3-3072-4ae1-ab24-e9ca6a15c772",
   "metadata": {},
   "outputs": [],
   "source": [
    "import numpy as np  #importiamo pacchetto np per lavorare con funzioni di array"
   ]
  },
  {
   "cell_type": "code",
   "execution_count": 8,
   "id": "88c69f8c-dd2e-4c0f-9e69-9e888ba6dd58",
   "metadata": {},
   "outputs": [],
   "source": [
    "mat = [[0, 1, 2, 3, 4], [5, 6, 7, 8, 9], [10, 11, 12, 13, 14]]  #lista di liste"
   ]
  },
  {
   "cell_type": "code",
   "execution_count": 10,
   "id": "08835776-8067-44bb-b08f-f2b5462fa2b1",
   "metadata": {},
   "outputs": [],
   "source": [
    "arr=np.array(mat)   #casting creando una variabile con funzione .array di 'np'"
   ]
  },
  {
   "cell_type": "code",
   "execution_count": 12,
   "id": "08712d21-4da1-4a16-924d-3c9e3bd221da",
   "metadata": {},
   "outputs": [
    {
     "data": {
      "text/plain": [
       "array([[ 0,  1,  2,  3,  4],\n",
       "       [ 5,  6,  7,  8,  9],\n",
       "       [10, 11, 12, 13, 14]])"
      ]
     },
     "execution_count": 12,
     "metadata": {},
     "output_type": "execute_result"
    }
   ],
   "source": [
    "arr  #richiamiamo la nuova variabile e vediamo che è stampata in righe/colonne, proprio come una tabella"
   ]
  },
  {
   "cell_type": "code",
   "execution_count": null,
   "id": "27a31b82-1a85-47b4-b2d8-95a2c6c0232c",
   "metadata": {},
   "outputs": [],
   "source": []
  },
  {
   "cell_type": "markdown",
   "id": "b7697a8b-55c2-4a20-92f8-277355200c76",
   "metadata": {},
   "source": [
    "## Importa modulo math e prova ad usare funzioni .sin(), .cos(), .factorial(), .pi"
   ]
  },
  {
   "cell_type": "code",
   "execution_count": 14,
   "id": "79f748de-57e6-46c7-bedc-2d6a64f98347",
   "metadata": {},
   "outputs": [],
   "source": [
    "import math"
   ]
  },
  {
   "cell_type": "code",
   "execution_count": 30,
   "id": "1e24968c-3461-42da-8173-fba1bb2d979a",
   "metadata": {},
   "outputs": [
    {
     "data": {
      "text/plain": [
       "3.141592653589793"
      ]
     },
     "execution_count": 30,
     "metadata": {},
     "output_type": "execute_result"
    }
   ],
   "source": [
    "math.pi"
   ]
  },
  {
   "cell_type": "code",
   "execution_count": 35,
   "id": "0bcb01bd-1df3-4d3c-b0ff-6cc6ec0e8f17",
   "metadata": {},
   "outputs": [
    {
     "data": {
      "text/plain": [
       "<function math.sin(x, /)>"
      ]
     },
     "execution_count": 35,
     "metadata": {},
     "output_type": "execute_result"
    }
   ],
   "source": [
    "math.sin"
   ]
  },
  {
   "cell_type": "code",
   "execution_count": 37,
   "id": "a1f6636f-f5e2-4aed-8d99-eb597ded20ee",
   "metadata": {},
   "outputs": [
    {
     "data": {
      "text/plain": [
       "<function math.cos(x, /)>"
      ]
     },
     "execution_count": 37,
     "metadata": {},
     "output_type": "execute_result"
    }
   ],
   "source": [
    "math.cos"
   ]
  },
  {
   "cell_type": "code",
   "execution_count": 39,
   "id": "067ab4dd-9f26-4f64-bd73-ee1cf178c05a",
   "metadata": {},
   "outputs": [
    {
     "data": {
      "text/plain": [
       "<function math.factorial(n, /)>"
      ]
     },
     "execution_count": 39,
     "metadata": {},
     "output_type": "execute_result"
    }
   ],
   "source": [
    "math.factorial"
   ]
  },
  {
   "cell_type": "code",
   "execution_count": null,
   "id": "eab33107-7aa6-4426-88c6-a468ac0b0aaf",
   "metadata": {},
   "outputs": [],
   "source": []
  },
  {
   "cell_type": "markdown",
   "id": "ad89a856-6cd5-4c14-a826-eb4d9d5e249b",
   "metadata": {},
   "source": [
    "## L'azienda Object SpA ha creato una lista di quanti oggetti ha venduto ogni mese nell'ultimo anno: lst = [2000, 5500, 7200, 4320, 1280, 1900, 2500, 3900, 6410, 8150, 7100, 5350] trasformiamola in un array NumPy (casting): lst = np.array(lst)"
   ]
  },
  {
   "cell_type": "code",
   "execution_count": 43,
   "id": "d45ee1b5-4253-4685-ade6-0f5c503b72aa",
   "metadata": {},
   "outputs": [],
   "source": [
    "lst = [2000, 5500, 7200, 4320, 1280, 1900, 2500, 3900, 6410, 8150, 7100, 5350] "
   ]
  },
  {
   "cell_type": "code",
   "execution_count": 45,
   "id": "2678999f-5d96-48ad-bedd-48d380f367c2",
   "metadata": {},
   "outputs": [],
   "source": [
    "lst = np.array(lst)"
   ]
  },
  {
   "cell_type": "markdown",
   "id": "5d2c9dd6-1c0c-4a1f-bf61-c50aa9324015",
   "metadata": {},
   "source": [
    "### qual è stata la vendita massima mensile?"
   ]
  },
  {
   "cell_type": "code",
   "execution_count": 52,
   "id": "0858f298-9a10-47af-a3d6-31860379921b",
   "metadata": {},
   "outputs": [
    {
     "data": {
      "text/plain": [
       "8150"
      ]
     },
     "execution_count": 52,
     "metadata": {},
     "output_type": "execute_result"
    }
   ],
   "source": [
    "lst.max()"
   ]
  },
  {
   "cell_type": "markdown",
   "id": "97100eb9-9f92-4133-9591-44870dc17f16",
   "metadata": {},
   "source": [
    "### E quella minima?"
   ]
  },
  {
   "cell_type": "code",
   "execution_count": 56,
   "id": "9c00deda-9322-4297-8118-fedcd5856437",
   "metadata": {},
   "outputs": [
    {
     "data": {
      "text/plain": [
       "1280"
      ]
     },
     "execution_count": 56,
     "metadata": {},
     "output_type": "execute_result"
    }
   ],
   "source": [
    "lst.min()"
   ]
  },
  {
   "cell_type": "markdown",
   "id": "503c3384-353a-4e9f-a688-2b92fbe8d880",
   "metadata": {},
   "source": [
    "### quali sono le vendite mensili maggiori di 4999 oggetti?"
   ]
  },
  {
   "cell_type": "code",
   "execution_count": 77,
   "id": "506635e3-d9c9-44f0-a8c4-9d79837f0883",
   "metadata": {},
   "outputs": [
    {
     "data": {
      "text/plain": [
       "array([5500, 7200, 6410, 8150, 7100, 5350])"
      ]
     },
     "execution_count": 77,
     "metadata": {},
     "output_type": "execute_result"
    }
   ],
   "source": [
    "filtro4999=lst>4999\n",
    "lst[filtro4999]"
   ]
  },
  {
   "cell_type": "markdown",
   "id": "30e9f033-6490-4760-9b53-c83043e603de",
   "metadata": {},
   "source": [
    "### e quante ne sono?"
   ]
  },
  {
   "cell_type": "code",
   "execution_count": 79,
   "id": "14131d3f-e3d1-43c4-9801-a564adce102c",
   "metadata": {},
   "outputs": [
    {
     "data": {
      "text/plain": [
       "(6,)"
      ]
     },
     "execution_count": 79,
     "metadata": {},
     "output_type": "execute_result"
    }
   ],
   "source": [
    "lst[filtro4999].shape"
   ]
  },
  {
   "cell_type": "markdown",
   "id": "8a7ba151-ba69-4445-8337-2758deef917c",
   "metadata": {},
   "source": [
    "### quali sono le vendite minori di 3000 oggetti?"
   ]
  },
  {
   "cell_type": "code",
   "execution_count": 82,
   "id": "7ea86007-0e6d-4441-8436-7e96b7c75c0b",
   "metadata": {},
   "outputs": [
    {
     "data": {
      "text/plain": [
       "array([2000, 1280, 1900, 2500])"
      ]
     },
     "execution_count": 82,
     "metadata": {},
     "output_type": "execute_result"
    }
   ],
   "source": [
    "filtro3000=lst<3000\n",
    "lst[filtro3000]"
   ]
  },
  {
   "cell_type": "markdown",
   "id": "5dcacba2-d66e-4d97-be10-bfa620b0c961",
   "metadata": {},
   "source": [
    "### In media quanti oggetti sono stati venduti al mese?"
   ]
  },
  {
   "cell_type": "code",
   "execution_count": 87,
   "id": "769507ea-d947-4e87-9cf1-f5db2a37f685",
   "metadata": {},
   "outputs": [
    {
     "data": {
      "text/plain": [
       "4634.166666666667"
      ]
     },
     "execution_count": 87,
     "metadata": {},
     "output_type": "execute_result"
    }
   ],
   "source": [
    "lst.mean()"
   ]
  },
  {
   "cell_type": "markdown",
   "id": "494af9f8-3b2f-42eb-95e0-c55f39b1ec3e",
   "metadata": {},
   "source": [
    "## L'azienda Object SpA ha un dataset con tutti gli stipendi dei dipendenti, memorizzato in un ndarray: import numpy as np stipendi = np.array( [100, 200, 300, 400, 500,  600, 700, 800, 900, 1000] ) L'azienda ci chiede di raddoppiare tutti gli stipendi; facciamolo in due modi: • con un ciclo for e con masking"
   ]
  },
  {
   "cell_type": "code",
   "execution_count": 96,
   "id": "2d6e796e-c538-4e72-b1c2-b57a3d1dccbb",
   "metadata": {},
   "outputs": [],
   "source": [
    "stipendi=np.array( [100, 200, 300, 400, 500, 600, 700, 800, 900, 1000] )"
   ]
  },
  {
   "cell_type": "markdown",
   "id": "05ba36bd-1c9a-4109-8309-dbd0ac87a265",
   "metadata": {},
   "source": [
    "### MASKING"
   ]
  },
  {
   "cell_type": "code",
   "execution_count": 103,
   "id": "a758d0b6-3aa9-495d-93ee-93c0b7b93ce8",
   "metadata": {},
   "outputs": [
    {
     "data": {
      "text/plain": [
       "array([ 200,  400,  600,  800, 1000, 1200, 1400, 1600, 1800, 2000])"
      ]
     },
     "execution_count": 103,
     "metadata": {},
     "output_type": "execute_result"
    }
   ],
   "source": [
    "stipendi*2"
   ]
  },
  {
   "cell_type": "markdown",
   "id": "23b94f81-df3d-4bc8-8961-938b7bb0e820",
   "metadata": {},
   "source": [
    "### CICLO FOR"
   ]
  },
  {
   "cell_type": "code",
   "execution_count": 124,
   "id": "6df37427-f08c-4074-b226-699cef219cdf",
   "metadata": {},
   "outputs": [
    {
     "name": "stdout",
     "output_type": "stream",
     "text": [
      "200\n",
      "400\n",
      "600\n",
      "800\n",
      "1000\n",
      "1200\n",
      "1400\n",
      "1600\n",
      "1800\n",
      "2000\n"
     ]
    }
   ],
   "source": [
    "for stipendio in stipendi:\n",
    "    stipendio *=2\n",
    "\n",
    "    print(stipendio)"
   ]
  },
  {
   "cell_type": "code",
   "execution_count": null,
   "id": "634cff22-0197-4923-aa92-91b33bd1d58e",
   "metadata": {},
   "outputs": [],
   "source": []
  }
 ],
 "metadata": {
  "kernelspec": {
   "display_name": "Python 3 (ipykernel)",
   "language": "python",
   "name": "python3"
  },
  "language_info": {
   "codemirror_mode": {
    "name": "ipython",
    "version": 3
   },
   "file_extension": ".py",
   "mimetype": "text/x-python",
   "name": "python",
   "nbconvert_exporter": "python",
   "pygments_lexer": "ipython3",
   "version": "3.11.7"
  }
 },
 "nbformat": 4,
 "nbformat_minor": 5
}
