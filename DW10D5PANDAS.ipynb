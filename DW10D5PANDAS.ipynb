{
 "cells": [
  {
   "cell_type": "code",
   "execution_count": 4,
   "id": "4c859a7f-1aa1-4927-8bbc-cb1e5b4a3696",
   "metadata": {},
   "outputs": [],
   "source": [
    "import pandas as pd"
   ]
  },
  {
   "cell_type": "markdown",
   "id": "3d295c73-2f4e-425e-aab8-9ff4b83e717c",
   "metadata": {},
   "source": [
    "# Series"
   ]
  },
  {
   "cell_type": "code",
   "execution_count": 12,
   "id": "6f23820d-027b-41bd-bb35-e54925342a6a",
   "metadata": {},
   "outputs": [],
   "source": [
    "guadagni=[1,4,5,6,10,4]"
   ]
  },
  {
   "cell_type": "code",
   "execution_count": 14,
   "id": "5d3b281c-2fb0-4aff-a046-c2f3834b1c2c",
   "metadata": {},
   "outputs": [
    {
     "data": {
      "text/plain": [
       "0     1\n",
       "1     4\n",
       "2     5\n",
       "3     6\n",
       "4    10\n",
       "5     4\n",
       "dtype: int64"
      ]
     },
     "execution_count": 14,
     "metadata": {},
     "output_type": "execute_result"
    }
   ],
   "source": [
    "pd.Series(guadagni)   #casting in pd\n",
    "                      #genera etichette automatiche"
   ]
  },
  {
   "cell_type": "code",
   "execution_count": 40,
   "id": "304f1685-be10-43a8-93bc-5e662a6d863a",
   "metadata": {},
   "outputs": [],
   "source": [
    "guadagni=[1,4,5,6,10,4]\n",
    "guadagni_s=pd.Series(guadagni, index=['gen', 'feb', 'mar', 'apr', 'mag', 'giu'])  #creiaimo variabile\n",
    "                                                                                  #creiamo delle etichette"
   ]
  },
  {
   "cell_type": "code",
   "execution_count": 42,
   "id": "51829635-8546-4cdb-91b1-7effe8f11d24",
   "metadata": {},
   "outputs": [
    {
     "data": {
      "text/plain": [
       "gen     1\n",
       "feb     4\n",
       "mar     5\n",
       "apr     6\n",
       "mag    10\n",
       "giu     4\n",
       "dtype: int64"
      ]
     },
     "execution_count": 42,
     "metadata": {},
     "output_type": "execute_result"
    }
   ],
   "source": [
    "guadagni_s"
   ]
  },
  {
   "cell_type": "code",
   "execution_count": null,
   "id": "955791da-9f2b-4de7-8597-1556b753a078",
   "metadata": {},
   "outputs": [],
   "source": [
    "guadagni_s [4]   #usiamo indexing per ricercare dei valori"
   ]
  },
  {
   "cell_type": "code",
   "execution_count": 50,
   "id": "e3e14703-cdf0-46ef-9174-89ba7a6c0a0b",
   "metadata": {},
   "outputs": [
    {
     "data": {
      "text/plain": [
       "gen    1\n",
       "feb    4\n",
       "mar    5\n",
       "apr    6\n",
       "dtype: int64"
      ]
     },
     "execution_count": 50,
     "metadata": {},
     "output_type": "execute_result"
    }
   ],
   "source": [
    "guadagni_s ['gen':'apr']    #usiamo indexing per ricercare dei valori"
   ]
  },
  {
   "cell_type": "code",
   "execution_count": 52,
   "id": "b5e8df1f-2339-46cc-a623-ca2d7b7640c7",
   "metadata": {},
   "outputs": [
    {
     "data": {
      "text/plain": [
       "gen     100\n",
       "feb     400\n",
       "mar     500\n",
       "apr     600\n",
       "mag    1000\n",
       "giu     400\n",
       "dtype: int64"
      ]
     },
     "execution_count": 52,
     "metadata": {},
     "output_type": "execute_result"
    }
   ],
   "source": [
    "guadagni_s*100  "
   ]
  },
  {
   "cell_type": "markdown",
   "id": "6f871b5f-6f2b-4802-a56b-4f89779a9a89",
   "metadata": {},
   "source": [
    "# DataFrame"
   ]
  },
  {
   "cell_type": "code",
   "execution_count": 70,
   "id": "977b336e-0e4f-47af-9135-3501a73e1639",
   "metadata": {},
   "outputs": [],
   "source": [
    "import numpy as np\n",
    "mat = [[0, 1, 2, 3, 4], [5, 6, 7, 8, 9], [10, 11, 12, 13, 14]]\n",
    "arr=np.array(mat)"
   ]
  },
  {
   "cell_type": "code",
   "execution_count": 72,
   "id": "50cb6ea8-d1d4-49fe-a3e7-c430b48e232f",
   "metadata": {},
   "outputs": [
    {
     "data": {
      "text/plain": [
       "array([[ 0,  1,  2,  3,  4],\n",
       "       [ 5,  6,  7,  8,  9],\n",
       "       [10, 11, 12, 13, 14]])"
      ]
     },
     "execution_count": 72,
     "metadata": {},
     "output_type": "execute_result"
    }
   ],
   "source": [
    "arr   "
   ]
  },
  {
   "cell_type": "code",
   "execution_count": 74,
   "id": "36b3b811-3c02-4ab1-8da1-b11cc309dbd6",
   "metadata": {},
   "outputs": [
    {
     "data": {
      "text/html": [
       "<div>\n",
       "<style scoped>\n",
       "    .dataframe tbody tr th:only-of-type {\n",
       "        vertical-align: middle;\n",
       "    }\n",
       "\n",
       "    .dataframe tbody tr th {\n",
       "        vertical-align: top;\n",
       "    }\n",
       "\n",
       "    .dataframe thead th {\n",
       "        text-align: right;\n",
       "    }\n",
       "</style>\n",
       "<table border=\"1\" class=\"dataframe\">\n",
       "  <thead>\n",
       "    <tr style=\"text-align: right;\">\n",
       "      <th></th>\n",
       "      <th>0</th>\n",
       "      <th>1</th>\n",
       "      <th>2</th>\n",
       "      <th>3</th>\n",
       "      <th>4</th>\n",
       "    </tr>\n",
       "  </thead>\n",
       "  <tbody>\n",
       "    <tr>\n",
       "      <th>0</th>\n",
       "      <td>0</td>\n",
       "      <td>1</td>\n",
       "      <td>2</td>\n",
       "      <td>3</td>\n",
       "      <td>4</td>\n",
       "    </tr>\n",
       "    <tr>\n",
       "      <th>1</th>\n",
       "      <td>5</td>\n",
       "      <td>6</td>\n",
       "      <td>7</td>\n",
       "      <td>8</td>\n",
       "      <td>9</td>\n",
       "    </tr>\n",
       "    <tr>\n",
       "      <th>2</th>\n",
       "      <td>10</td>\n",
       "      <td>11</td>\n",
       "      <td>12</td>\n",
       "      <td>13</td>\n",
       "      <td>14</td>\n",
       "    </tr>\n",
       "  </tbody>\n",
       "</table>\n",
       "</div>"
      ],
      "text/plain": [
       "    0   1   2   3   4\n",
       "0   0   1   2   3   4\n",
       "1   5   6   7   8   9\n",
       "2  10  11  12  13  14"
      ]
     },
     "execution_count": 74,
     "metadata": {},
     "output_type": "execute_result"
    }
   ],
   "source": [
    "pd.DataFrame(arr)    #visualizzazione in tabella (dati bidimensionali)"
   ]
  },
  {
   "cell_type": "code",
   "execution_count": 98,
   "id": "bd055888-4ed2-47a7-ac9a-c341a2a116db",
   "metadata": {},
   "outputs": [],
   "source": [
    "df=pd.DataFrame(arr, index=['abbigliamento', 'calzature', 'sportivo'],  #index= indici righe\n",
    "            columns=['gen', 'feb', 'mar','apr', 'mag'])              #columns=indici colonne"
   ]
  },
  {
   "cell_type": "code",
   "execution_count": 100,
   "id": "3da88b72-0d3f-4eee-8bc0-c2542c09c87e",
   "metadata": {},
   "outputs": [
    {
     "data": {
      "text/html": [
       "<div>\n",
       "<style scoped>\n",
       "    .dataframe tbody tr th:only-of-type {\n",
       "        vertical-align: middle;\n",
       "    }\n",
       "\n",
       "    .dataframe tbody tr th {\n",
       "        vertical-align: top;\n",
       "    }\n",
       "\n",
       "    .dataframe thead th {\n",
       "        text-align: right;\n",
       "    }\n",
       "</style>\n",
       "<table border=\"1\" class=\"dataframe\">\n",
       "  <thead>\n",
       "    <tr style=\"text-align: right;\">\n",
       "      <th></th>\n",
       "      <th>gen</th>\n",
       "      <th>feb</th>\n",
       "      <th>mar</th>\n",
       "      <th>apr</th>\n",
       "      <th>mag</th>\n",
       "    </tr>\n",
       "  </thead>\n",
       "  <tbody>\n",
       "    <tr>\n",
       "      <th>abbigliamento</th>\n",
       "      <td>0</td>\n",
       "      <td>1</td>\n",
       "      <td>2</td>\n",
       "      <td>3</td>\n",
       "      <td>4</td>\n",
       "    </tr>\n",
       "    <tr>\n",
       "      <th>calzature</th>\n",
       "      <td>5</td>\n",
       "      <td>6</td>\n",
       "      <td>7</td>\n",
       "      <td>8</td>\n",
       "      <td>9</td>\n",
       "    </tr>\n",
       "    <tr>\n",
       "      <th>sportivo</th>\n",
       "      <td>10</td>\n",
       "      <td>11</td>\n",
       "      <td>12</td>\n",
       "      <td>13</td>\n",
       "      <td>14</td>\n",
       "    </tr>\n",
       "  </tbody>\n",
       "</table>\n",
       "</div>"
      ],
      "text/plain": [
       "               gen  feb  mar  apr  mag\n",
       "abbigliamento    0    1    2    3    4\n",
       "calzature        5    6    7    8    9\n",
       "sportivo        10   11   12   13   14"
      ]
     },
     "execution_count": 100,
     "metadata": {},
     "output_type": "execute_result"
    }
   ],
   "source": [
    "df"
   ]
  },
  {
   "cell_type": "code",
   "execution_count": 106,
   "id": "1a6353f6-9bda-4e72-8e21-67038bc7199b",
   "metadata": {},
   "outputs": [
    {
     "data": {
      "text/plain": [
       "(3, 5)"
      ]
     },
     "execution_count": 106,
     "metadata": {},
     "output_type": "execute_result"
    }
   ],
   "source": [
    "df.shape"
   ]
  },
  {
   "cell_type": "code",
   "execution_count": 108,
   "id": "0a8bd26c-0c0e-443d-9261-99f6053dbe4a",
   "metadata": {},
   "outputs": [
    {
     "data": {
      "text/plain": [
       "abbigliamento     0\n",
       "calzature         5\n",
       "sportivo         10\n",
       "Name: gen, dtype: int32"
      ]
     },
     "execution_count": 108,
     "metadata": {},
     "output_type": "execute_result"
    }
   ],
   "source": [
    "df['gen']              "
   ]
  },
  {
   "cell_type": "code",
   "execution_count": 112,
   "id": "a6b56d22-241f-451c-8de2-9080951492e0",
   "metadata": {},
   "outputs": [
    {
     "data": {
      "text/plain": [
       "gen    5.0\n",
       "feb    6.0\n",
       "mar    7.0\n",
       "apr    8.0\n",
       "mag    9.0\n",
       "dtype: float64"
      ]
     },
     "execution_count": 112,
     "metadata": {},
     "output_type": "execute_result"
    }
   ],
   "source": [
    "df.mean()"
   ]
  },
  {
   "cell_type": "code",
   "execution_count": null,
   "id": "7df77342-8352-443d-97f8-5fd05fec8e69",
   "metadata": {},
   "outputs": [],
   "source": []
  }
 ],
 "metadata": {
  "kernelspec": {
   "display_name": "Python 3 (ipykernel)",
   "language": "python",
   "name": "python3"
  },
  "language_info": {
   "codemirror_mode": {
    "name": "ipython",
    "version": 3
   },
   "file_extension": ".py",
   "mimetype": "text/x-python",
   "name": "python",
   "nbconvert_exporter": "python",
   "pygments_lexer": "ipython3",
   "version": "3.11.7"
  }
 },
 "nbformat": 4,
 "nbformat_minor": 5
}
