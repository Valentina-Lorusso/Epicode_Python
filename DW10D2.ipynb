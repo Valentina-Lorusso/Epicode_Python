{
 "cells": [
  {
   "cell_type": "markdown",
   "id": "38747e64-6f61-4671-80e8-7cb6a83dcc8b",
   "metadata": {},
   "source": [
    "# Abbiamo la stringa: nome_scuola = \"Epicode\". Stampare ogni carattere della stringa, uno su ogni riga, utilizzando un costrutto while."
   ]
  },
  {
   "cell_type": "code",
   "execution_count": 5,
   "id": "68072e92-6999-4857-9470-2ce4af7ccb3e",
   "metadata": {},
   "outputs": [],
   "source": [
    "nome_scuola='Epicode'"
   ]
  },
  {
   "cell_type": "code",
   "execution_count": 28,
   "id": "5e082658-1096-4186-a60c-af2b821a8ac5",
   "metadata": {},
   "outputs": [
    {
     "name": "stdout",
     "output_type": "stream",
     "text": [
      "E\n",
      "p\n",
      "i\n",
      "c\n",
      "o\n",
      "d\n",
      "e\n",
      "Finito\n"
     ]
    }
   ],
   "source": [
    "indice=0\n",
    "while indice<7:\n",
    "    print(nome_scuola[indice])\n",
    "    indice+=1\n",
    "\n",
    "print('Finito')"
   ]
  },
  {
   "cell_type": "markdown",
   "id": "a04d0d31-61ae-4a7d-a105-d83fc4b9a847",
   "metadata": {},
   "source": [
    "# Stampare a video tutti i numeri da 0 a 20 utilizzando il costrutto while. Utilizzeremo: \n",
    "    • un ciclo while \n",
    "    • la funzione print() \n",
    "    • una variabile, che dovrà essere inizializzata \n",
    "    • una procedura di incremento"
   ]
  },
  {
   "cell_type": "code",
   "execution_count": 13,
   "id": "cf6d7ede-dfc2-44ea-9161-aa9048ed39ef",
   "metadata": {},
   "outputs": [
    {
     "name": "stdout",
     "output_type": "stream",
     "text": [
      "0\n",
      "1\n",
      "2\n",
      "3\n",
      "4\n",
      "5\n",
      "6\n",
      "7\n",
      "8\n",
      "9\n",
      "10\n",
      "11\n",
      "12\n",
      "13\n",
      "14\n",
      "15\n",
      "16\n",
      "17\n",
      "18\n",
      "19\n",
      "20\n"
     ]
    }
   ],
   "source": [
    "somma=0\n",
    "while somma<=20:\n",
    "     print(somma)\n",
    "     somma+=1"
   ]
  },
  {
   "cell_type": "markdown",
   "id": "4e14f6ba-3586-44e5-9cff-104d432ea6ca",
   "metadata": {},
   "source": [
    "# Calcolare e stampare tutte le prime 10 potenze di 2 (e.g., 2⁰, 2¹, 2², …) utilizzando un ciclo while.\n",
    "## Metodo 1 - Moltiplicare per 2"
   ]
  },
  {
   "cell_type": "code",
   "execution_count": 19,
   "id": "85fd83e3-99fc-444a-a25c-b207bed0e51a",
   "metadata": {},
   "outputs": [
    {
     "name": "stdout",
     "output_type": "stream",
     "text": [
      "2\n",
      "4\n",
      "8\n",
      "16\n",
      "32\n",
      "64\n",
      "128\n",
      "256\n",
      "512\n",
      "1024\n"
     ]
    }
   ],
   "source": [
    "num=2\n",
    "while num<=1024:\n",
    "      print(num)\n",
    "      num*=2"
   ]
  },
  {
   "cell_type": "markdown",
   "id": "58c81d74-5551-479e-8751-ee55f8ea2f36",
   "metadata": {},
   "source": [
    "# Calcolare e stampare tutte le prime 10 potenze di 2 (e.g., 2⁰, 2¹, 2², …) utilizzando un ciclo while.\n",
    "## Metodo 2 - Definire esponente"
   ]
  },
  {
   "cell_type": "code",
   "execution_count": 36,
   "id": "99f7f8b9-1a5c-4721-a3b8-0952399c05e6",
   "metadata": {},
   "outputs": [
    {
     "name": "stdout",
     "output_type": "stream",
     "text": [
      "1\n",
      "2\n",
      "4\n",
      "8\n",
      "16\n",
      "32\n",
      "64\n",
      "128\n",
      "256\n",
      "512\n",
      "1024\n",
      "Finito\n"
     ]
    }
   ],
   "source": [
    "esponente=0 \n",
    "\n",
    "while esponente <=10:\n",
    "    print(2**esponente)\n",
    "    esponente +=1\n",
    "\n",
    "print('Finito')"
   ]
  },
  {
   "cell_type": "markdown",
   "id": "315789b8-d030-4717-b3f1-073068907fb7",
   "metadata": {},
   "source": [
    "# Calcolare e stampare tutte le prime N potenze di 2 utilizzando un ciclo while, domandando all'utente di inserire N.\n",
    "## RIFARE!!"
   ]
  },
  {
   "cell_type": "code",
   "execution_count": null,
   "id": "59aef325-a214-4965-be5c-2f1096b52bc9",
   "metadata": {},
   "outputs": [],
   "source": [
    "base = 2\n",
    "potenza = input('Inserisci indice di elevamento a potenza')\n",
    "potenza = int()\n",
    "while base < 1024:\n",
    "    potenza = base**potenza\n",
    "    print(potenza)\n",
    "    potenza += 1"
   ]
  },
  {
   "cell_type": "markdown",
   "id": "be7244b4-2916-468d-b93e-3f01801cfd3d",
   "metadata": {},
   "source": [
    "# Calcolare e stampare tutte le potenze di 2 minori di 25000.\n",
    "## Metodo 1"
   ]
  },
  {
   "cell_type": "code",
   "execution_count": null,
   "id": "181ef2bf-e923-4c8c-9b41-3b05b1b66b68",
   "metadata": {},
   "outputs": [],
   "source": [
    "num=2\n",
    "while num<25000:\n",
    "      print(num)\n",
    "      num*=2"
   ]
  },
  {
   "cell_type": "markdown",
   "id": "6d2c20f8-ee81-4c0a-9b2a-16210d93ddcf",
   "metadata": {},
   "source": [
    "# Calcolare e stampare tutte le potenze di 2 minori di 25000.\n",
    "## Metodo 2 - RIFARE!"
   ]
  },
  {
   "cell_type": "code",
   "execution_count": null,
   "id": "1f84ecfa-d545-4e92-bde3-2fd8b4a59113",
   "metadata": {},
   "outputs": [],
   "source": [
    "base=0\n",
    "esponente=2\n",
    "risultato=base**esponente\n",
    "\n",
    "while risultato < 25000:\n",
    "    "
   ]
  },
  {
   "cell_type": "code",
   "execution_count": null,
   "id": "9ea04370-2084-45b9-8ad6-7372abf3aa79",
   "metadata": {},
   "outputs": [],
   "source": []
  }
 ],
 "metadata": {
  "kernelspec": {
   "display_name": "Python 3 (ipykernel)",
   "language": "python",
   "name": "python3"
  },
  "language_info": {
   "codemirror_mode": {
    "name": "ipython",
    "version": 3
   },
   "file_extension": ".py",
   "mimetype": "text/x-python",
   "name": "python",
   "nbconvert_exporter": "python",
   "pygments_lexer": "ipython3",
   "version": "3.11.7"
  }
 },
 "nbformat": 4,
 "nbformat_minor": 5
}
