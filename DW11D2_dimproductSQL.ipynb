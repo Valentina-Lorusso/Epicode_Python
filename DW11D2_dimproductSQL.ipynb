{
 "cells": [
  {
   "cell_type": "code",
   "execution_count": 8,
   "id": "fcc3b7b6-5d44-48f2-af3c-451b419f9e42",
   "metadata": {},
   "outputs": [
    {
     "name": "stdout",
     "output_type": "stream",
     "text": [
      "Defaulting to user installation because normal site-packages is not writeable\n",
      "Requirement already satisfied: PyMySQL in c:\\users\\valentina\\appdata\\roaming\\python\\python311\\site-packages (1.1.1)\n",
      "Note: you may need to restart the kernel to use updated packages.\n"
     ]
    }
   ],
   "source": [
    "pip install PyMySQL"
   ]
  },
  {
   "cell_type": "code",
   "execution_count": 9,
   "id": "8e6c7423-44aa-446e-92bc-13459dd9562c",
   "metadata": {},
   "outputs": [
    {
     "name": "stdout",
     "output_type": "stream",
     "text": [
      "Defaulting to user installation because normal site-packages is not writeable\n",
      "Requirement already satisfied: SQLAlchemy in c:\\programdata\\anaconda3\\lib\\site-packages (2.0.25)\n",
      "Requirement already satisfied: typing-extensions>=4.6.0 in c:\\programdata\\anaconda3\\lib\\site-packages (from SQLAlchemy) (4.9.0)\n",
      "Requirement already satisfied: greenlet!=0.4.17 in c:\\programdata\\anaconda3\\lib\\site-packages (from SQLAlchemy) (3.0.1)\n",
      "Note: you may need to restart the kernel to use updated packages.\n"
     ]
    }
   ],
   "source": [
    "pip install SQLAlchemy"
   ]
  },
  {
   "cell_type": "code",
   "execution_count": 10,
   "id": "b6559b81-e4d1-4c8c-ad11-6b3f8cef3421",
   "metadata": {},
   "outputs": [
    {
     "name": "stdout",
     "output_type": "stream",
     "text": [
      "Defaulting to user installation because normal site-packages is not writeable\n",
      "Requirement already satisfied: python_dotenv in c:\\programdata\\anaconda3\\lib\\site-packages (0.21.0)\n",
      "Note: you may need to restart the kernel to use updated packages.\n"
     ]
    }
   ],
   "source": [
    "pip install python_dotenv"
   ]
  },
  {
   "cell_type": "code",
   "execution_count": 12,
   "id": "ffd15515-7cf5-4320-a821-b8233bd3424f",
   "metadata": {},
   "outputs": [],
   "source": [
    "import dotenv\n",
    "import os\n",
    "from sqlalchemy import create_engine\n",
    "import pandas as pd\n",
    "\n",
    "username = os.getenv(\"username\")\n",
    "password = os.getenv(\"password\")\n",
    "host = os.getenv(\"host\")\n",
    "dbname = os.getenv(\"dbname\")\n",
    "\n",
    "dotenv.load_dotenv(override=True)\n",
    "conn_string = \"mysql+pymysql://\" + username + \":\" + password + \"@\" + host + \"/\" + dbname\n",
    "db_engine = create_engine(conn_string)\n",
    "\n",
    "query=\"SELECT * FROM dimproduct\"\n",
    "df=pd.read_sql(query, db_engine)"
   ]
  },
  {
   "cell_type": "markdown",
   "id": "e74cde06-a53e-45e9-a0da-de31e11e7ff8",
   "metadata": {},
   "source": [
    "# Esercizi W11D2"
   ]
  },
  {
   "cell_type": "markdown",
   "id": "507fd8d2-c218-45e8-8f49-90ecb6b79bde",
   "metadata": {},
   "source": [
    "### Quanti dati ci sono in totale?"
   ]
  },
  {
   "cell_type": "code",
   "execution_count": 13,
   "id": "43f57fda-20cc-4844-9531-84c96c09a57f",
   "metadata": {},
   "outputs": [
    {
     "data": {
      "text/plain": [
       "(606, 36)"
      ]
     },
     "execution_count": 13,
     "metadata": {},
     "output_type": "execute_result"
    }
   ],
   "source": [
    "df.shape"
   ]
  },
  {
   "cell_type": "markdown",
   "id": "72a80ca9-3c09-4c87-bc1a-50fb2f1b1ecb",
   "metadata": {},
   "source": [
    "### Quali sono i metadati?"
   ]
  },
  {
   "cell_type": "code",
   "execution_count": 21,
   "id": "04d11ed2-5721-4e5b-8efc-2d6f5ebde062",
   "metadata": {},
   "outputs": [
    {
     "data": {
      "text/plain": [
       "Index(['ProductKey', 'ProductAlternateKey', 'ProductSubcategoryKey',\n",
       "       'WeightUnitMeasureCode', 'SizeUnitMeasureCode', 'EnglishProductName',\n",
       "       'SpanishProductName', 'FrenchProductName', 'StandardCost',\n",
       "       'FinishedGoodsFlag', 'Color', 'SafetyStockLevel', 'ReorderPoint',\n",
       "       'ListPrice', 'Size', 'SizeRange', 'Weight', 'DaysToManufacture',\n",
       "       'ProductLine', 'DealerPrice', 'Class', 'Style', 'ModelName',\n",
       "       'LargePhoto', 'EnglishDescription', 'FrenchDescription',\n",
       "       'ChineseDescription', 'ArabicDescription', 'HebrewDescription',\n",
       "       'ThaiDescription', 'GermanDescription', 'JapaneseDescription',\n",
       "       'TurkishDescription', 'StartDate', 'EndDate', 'Status'],\n",
       "      dtype='object')"
      ]
     },
     "execution_count": 21,
     "metadata": {},
     "output_type": "execute_result"
    }
   ],
   "source": [
    "df.columns"
   ]
  },
  {
   "cell_type": "code",
   "execution_count": 23,
   "id": "7d25459d-3ca3-46b5-b7dd-332d3c0147a6",
   "metadata": {},
   "outputs": [
    {
     "data": {
      "text/plain": [
       "RangeIndex(start=0, stop=606, step=1)"
      ]
     },
     "execution_count": 23,
     "metadata": {},
     "output_type": "execute_result"
    }
   ],
   "source": [
    "df.index"
   ]
  },
  {
   "cell_type": "markdown",
   "id": "df99ba77-e46e-4acb-bb5e-22cac71e8b44",
   "metadata": {},
   "source": [
    "### Stampiamo il primo elemento"
   ]
  },
  {
   "cell_type": "code",
   "execution_count": 26,
   "id": "260970ec-c365-4773-92d1-62c5761ee119",
   "metadata": {},
   "outputs": [
    {
     "data": {
      "text/html": [
       "<div>\n",
       "<style scoped>\n",
       "    .dataframe tbody tr th:only-of-type {\n",
       "        vertical-align: middle;\n",
       "    }\n",
       "\n",
       "    .dataframe tbody tr th {\n",
       "        vertical-align: top;\n",
       "    }\n",
       "\n",
       "    .dataframe thead th {\n",
       "        text-align: right;\n",
       "    }\n",
       "</style>\n",
       "<table border=\"1\" class=\"dataframe\">\n",
       "  <thead>\n",
       "    <tr style=\"text-align: right;\">\n",
       "      <th></th>\n",
       "      <th>ProductKey</th>\n",
       "      <th>ProductAlternateKey</th>\n",
       "      <th>ProductSubcategoryKey</th>\n",
       "      <th>WeightUnitMeasureCode</th>\n",
       "      <th>SizeUnitMeasureCode</th>\n",
       "      <th>EnglishProductName</th>\n",
       "      <th>SpanishProductName</th>\n",
       "      <th>FrenchProductName</th>\n",
       "      <th>StandardCost</th>\n",
       "      <th>FinishedGoodsFlag</th>\n",
       "      <th>...</th>\n",
       "      <th>ChineseDescription</th>\n",
       "      <th>ArabicDescription</th>\n",
       "      <th>HebrewDescription</th>\n",
       "      <th>ThaiDescription</th>\n",
       "      <th>GermanDescription</th>\n",
       "      <th>JapaneseDescription</th>\n",
       "      <th>TurkishDescription</th>\n",
       "      <th>StartDate</th>\n",
       "      <th>EndDate</th>\n",
       "      <th>Status</th>\n",
       "    </tr>\n",
       "  </thead>\n",
       "  <tbody>\n",
       "    <tr>\n",
       "      <th>0</th>\n",
       "      <td>1</td>\n",
       "      <td>AR-5381</td>\n",
       "      <td>NaN</td>\n",
       "      <td>None</td>\n",
       "      <td>None</td>\n",
       "      <td>Adjustable Race</td>\n",
       "      <td></td>\n",
       "      <td></td>\n",
       "      <td>NaN</td>\n",
       "      <td>0</td>\n",
       "      <td>...</td>\n",
       "      <td>None</td>\n",
       "      <td>None</td>\n",
       "      <td>None</td>\n",
       "      <td>None</td>\n",
       "      <td>None</td>\n",
       "      <td>None</td>\n",
       "      <td>None</td>\n",
       "      <td>2003-07-01</td>\n",
       "      <td>NaT</td>\n",
       "      <td>Current</td>\n",
       "    </tr>\n",
       "  </tbody>\n",
       "</table>\n",
       "<p>1 rows × 36 columns</p>\n",
       "</div>"
      ],
      "text/plain": [
       "   ProductKey ProductAlternateKey  ProductSubcategoryKey  \\\n",
       "0           1             AR-5381                    NaN   \n",
       "\n",
       "  WeightUnitMeasureCode SizeUnitMeasureCode EnglishProductName  \\\n",
       "0                  None                None    Adjustable Race   \n",
       "\n",
       "  SpanishProductName FrenchProductName  StandardCost  FinishedGoodsFlag  ...  \\\n",
       "0                                                NaN                  0  ...   \n",
       "\n",
       "  ChineseDescription  ArabicDescription  HebrewDescription  ThaiDescription  \\\n",
       "0               None               None               None             None   \n",
       "\n",
       "  GermanDescription JapaneseDescription  TurkishDescription  StartDate  \\\n",
       "0              None                None                None 2003-07-01   \n",
       "\n",
       "  EndDate   Status  \n",
       "0     NaT  Current  \n",
       "\n",
       "[1 rows x 36 columns]"
      ]
     },
     "execution_count": 26,
     "metadata": {},
     "output_type": "execute_result"
    }
   ],
   "source": [
    "df.head(1)"
   ]
  },
  {
   "cell_type": "markdown",
   "id": "ddc29a42-972e-40ea-b894-2eb100ab5b04",
   "metadata": {},
   "source": [
    "### Stampiamo l'ultimo elemento"
   ]
  },
  {
   "cell_type": "code",
   "execution_count": 29,
   "id": "855b67e2-8fb9-43f4-9406-cf22a0365ced",
   "metadata": {},
   "outputs": [
    {
     "data": {
      "text/html": [
       "<div>\n",
       "<style scoped>\n",
       "    .dataframe tbody tr th:only-of-type {\n",
       "        vertical-align: middle;\n",
       "    }\n",
       "\n",
       "    .dataframe tbody tr th {\n",
       "        vertical-align: top;\n",
       "    }\n",
       "\n",
       "    .dataframe thead th {\n",
       "        text-align: right;\n",
       "    }\n",
       "</style>\n",
       "<table border=\"1\" class=\"dataframe\">\n",
       "  <thead>\n",
       "    <tr style=\"text-align: right;\">\n",
       "      <th></th>\n",
       "      <th>ProductKey</th>\n",
       "      <th>ProductAlternateKey</th>\n",
       "      <th>ProductSubcategoryKey</th>\n",
       "      <th>WeightUnitMeasureCode</th>\n",
       "      <th>SizeUnitMeasureCode</th>\n",
       "      <th>EnglishProductName</th>\n",
       "      <th>SpanishProductName</th>\n",
       "      <th>FrenchProductName</th>\n",
       "      <th>StandardCost</th>\n",
       "      <th>FinishedGoodsFlag</th>\n",
       "      <th>...</th>\n",
       "      <th>ChineseDescription</th>\n",
       "      <th>ArabicDescription</th>\n",
       "      <th>HebrewDescription</th>\n",
       "      <th>ThaiDescription</th>\n",
       "      <th>GermanDescription</th>\n",
       "      <th>JapaneseDescription</th>\n",
       "      <th>TurkishDescription</th>\n",
       "      <th>StartDate</th>\n",
       "      <th>EndDate</th>\n",
       "      <th>Status</th>\n",
       "    </tr>\n",
       "  </thead>\n",
       "  <tbody>\n",
       "    <tr>\n",
       "      <th>605</th>\n",
       "      <td>606</td>\n",
       "      <td>BK-R19B-52</td>\n",
       "      <td>2.0</td>\n",
       "      <td>LB</td>\n",
       "      <td>CM</td>\n",
       "      <td>Road-750 Black, 52</td>\n",
       "      <td>Carretera: 750, negra, 52</td>\n",
       "      <td>Vélo de route 750 noir, 52</td>\n",
       "      <td>343.65</td>\n",
       "      <td>1</td>\n",
       "      <td>...</td>\n",
       "      <td>入门级成人自行车；确保越野旅行或公路骑乘的舒适。快拆式车毂和轮缘。</td>\n",
       "      <td>إنها دراجة مناسبة للمبتدئين من البالغين؛ فهي ت...</td>\n",
       "      <td>אופני מבוגרים למתחילים; מציעים רכיבה נוחה \"מחו...</td>\n",
       "      <td>จักรยานระดับเริ่มต้นสำหรับผู้ใหญ่ ให้ความสบายใ...</td>\n",
       "      <td>Ein Erwachsenenrad für Einsteiger; bietet Komf...</td>\n",
       "      <td>エントリー レベルに対応する、クロスカントリーにも街への買い物にも快適な、大人の自転車。ハブ...</td>\n",
       "      <td>\"Başlangıç seviyesinde yetişkin bisikleti, kır...</td>\n",
       "      <td>2013-07-01</td>\n",
       "      <td>NaT</td>\n",
       "      <td>Current</td>\n",
       "    </tr>\n",
       "  </tbody>\n",
       "</table>\n",
       "<p>1 rows × 36 columns</p>\n",
       "</div>"
      ],
      "text/plain": [
       "     ProductKey ProductAlternateKey  ProductSubcategoryKey  \\\n",
       "605         606          BK-R19B-52                    2.0   \n",
       "\n",
       "    WeightUnitMeasureCode SizeUnitMeasureCode  EnglishProductName  \\\n",
       "605                    LB                  CM  Road-750 Black, 52   \n",
       "\n",
       "            SpanishProductName           FrenchProductName  StandardCost  \\\n",
       "605  Carretera: 750, negra, 52  Vélo de route 750 noir, 52        343.65   \n",
       "\n",
       "     FinishedGoodsFlag  ...                 ChineseDescription  \\\n",
       "605                  1  ...  入门级成人自行车；确保越野旅行或公路骑乘的舒适。快拆式车毂和轮缘。   \n",
       "\n",
       "                                     ArabicDescription  \\\n",
       "605  إنها دراجة مناسبة للمبتدئين من البالغين؛ فهي ت...   \n",
       "\n",
       "                                     HebrewDescription  \\\n",
       "605  אופני מבוגרים למתחילים; מציעים רכיבה נוחה \"מחו...   \n",
       "\n",
       "                                       ThaiDescription  \\\n",
       "605  จักรยานระดับเริ่มต้นสำหรับผู้ใหญ่ ให้ความสบายใ...   \n",
       "\n",
       "                                     GermanDescription  \\\n",
       "605  Ein Erwachsenenrad für Einsteiger; bietet Komf...   \n",
       "\n",
       "                                   JapaneseDescription  \\\n",
       "605  エントリー レベルに対応する、クロスカントリーにも街への買い物にも快適な、大人の自転車。ハブ...   \n",
       "\n",
       "                                    TurkishDescription  StartDate EndDate  \\\n",
       "605  \"Başlangıç seviyesinde yetişkin bisikleti, kır... 2013-07-01     NaT   \n",
       "\n",
       "      Status  \n",
       "605  Current  \n",
       "\n",
       "[1 rows x 36 columns]"
      ]
     },
     "execution_count": 29,
     "metadata": {},
     "output_type": "execute_result"
    }
   ],
   "source": [
    "df.tail(1)"
   ]
  },
  {
   "cell_type": "markdown",
   "id": "3a94a5b0-68d6-4b23-ba24-e73e4328a7cf",
   "metadata": {},
   "source": [
    "### Riusciamo a stampare cinque elementi a caso?"
   ]
  },
  {
   "cell_type": "code",
   "execution_count": 33,
   "id": "7ddb187a-a4d0-4cf3-b4a4-e21b84869c23",
   "metadata": {},
   "outputs": [
    {
     "data": {
      "text/html": [
       "<div>\n",
       "<style scoped>\n",
       "    .dataframe tbody tr th:only-of-type {\n",
       "        vertical-align: middle;\n",
       "    }\n",
       "\n",
       "    .dataframe tbody tr th {\n",
       "        vertical-align: top;\n",
       "    }\n",
       "\n",
       "    .dataframe thead th {\n",
       "        text-align: right;\n",
       "    }\n",
       "</style>\n",
       "<table border=\"1\" class=\"dataframe\">\n",
       "  <thead>\n",
       "    <tr style=\"text-align: right;\">\n",
       "      <th></th>\n",
       "      <th>ProductKey</th>\n",
       "      <th>ProductAlternateKey</th>\n",
       "      <th>ProductSubcategoryKey</th>\n",
       "      <th>WeightUnitMeasureCode</th>\n",
       "      <th>SizeUnitMeasureCode</th>\n",
       "      <th>EnglishProductName</th>\n",
       "      <th>SpanishProductName</th>\n",
       "      <th>FrenchProductName</th>\n",
       "      <th>StandardCost</th>\n",
       "      <th>FinishedGoodsFlag</th>\n",
       "      <th>...</th>\n",
       "      <th>ChineseDescription</th>\n",
       "      <th>ArabicDescription</th>\n",
       "      <th>HebrewDescription</th>\n",
       "      <th>ThaiDescription</th>\n",
       "      <th>GermanDescription</th>\n",
       "      <th>JapaneseDescription</th>\n",
       "      <th>TurkishDescription</th>\n",
       "      <th>StartDate</th>\n",
       "      <th>EndDate</th>\n",
       "      <th>Status</th>\n",
       "    </tr>\n",
       "  </thead>\n",
       "  <tbody>\n",
       "    <tr>\n",
       "      <th>586</th>\n",
       "      <td>587</td>\n",
       "      <td>BK-M38S-38</td>\n",
       "      <td>1.0</td>\n",
       "      <td>LB</td>\n",
       "      <td>CM</td>\n",
       "      <td>Mountain-400-W Silver, 38</td>\n",
       "      <td>Montaña: 400 para mujer, plateada, 38</td>\n",
       "      <td>VTT 400 -W argent, 38</td>\n",
       "      <td>419.78</td>\n",
       "      <td>1</td>\n",
       "      <td>...</td>\n",
       "      <td>此自行车具有优越的性价比。它灵敏且易于操控，越野骑乘也可轻松胜任。</td>\n",
       "      <td>توفر هذه الدراجة مستوى عاليًا من الأداء في حدو...</td>\n",
       "      <td>אופניים אלה מספקים רמת ביצועים גבוהה במחיר סבי...</td>\n",
       "      <td>จักรยานรุ่นนี้มีประสิทธิภาพสูง ในราคาประหยัด  ...</td>\n",
       "      <td>Dieses Fahrrad bietet ein erstklassiges Preis-...</td>\n",
       "      <td>この自転車は予算内で高性能を提供します。応答性と操作性に優れ、オフロードでもゆったりした気分...</td>\n",
       "      <td>\"Bu bisiklet hem hesaplıdır, hem de yüksek sev...</td>\n",
       "      <td>2013-07-01</td>\n",
       "      <td>NaT</td>\n",
       "      <td>Current</td>\n",
       "    </tr>\n",
       "    <tr>\n",
       "      <th>296</th>\n",
       "      <td>297</td>\n",
       "      <td>FR-M94B-42</td>\n",
       "      <td>12.0</td>\n",
       "      <td>LB</td>\n",
       "      <td>CM</td>\n",
       "      <td>HL Mountain Frame - Black, 42</td>\n",
       "      <td></td>\n",
       "      <td></td>\n",
       "      <td>653.70</td>\n",
       "      <td>1</td>\n",
       "      <td>...</td>\n",
       "      <td>每个车架都是在我们位于 Bothell 的工厂中手工制作，具有高质量山地车架所必需的最佳直径...</td>\n",
       "      <td>وقد تم تصنيع كل هيكل من تلك الهياكل يدويًا في ...</td>\n",
       "      <td>כל מסגרת מיוצרת ידנית במפעל שלנו ב- Bothell, ל...</td>\n",
       "      <td>เฟรมแต่ละชิ้นผ่านการสร้างด้วยมือในโรงงาน Bothe...</td>\n",
       "      <td>\"Jeder Rahmen wird in unserem Werk in Braunsfe...</td>\n",
       "      <td>各フレームは、Bothell 工場で最高級のマウンテン バイクのフレームに必要な最適径および...</td>\n",
       "      <td>\"Her bir kadro Bothell tesisimizde, birinci sı...</td>\n",
       "      <td>2012-07-01</td>\n",
       "      <td>2008-12-27</td>\n",
       "      <td>None</td>\n",
       "    </tr>\n",
       "    <tr>\n",
       "      <th>162</th>\n",
       "      <td>163</td>\n",
       "      <td>MS-1981</td>\n",
       "      <td>NaN</td>\n",
       "      <td>None</td>\n",
       "      <td>None</td>\n",
       "      <td>Metal Sheet 7</td>\n",
       "      <td></td>\n",
       "      <td></td>\n",
       "      <td>NaN</td>\n",
       "      <td>0</td>\n",
       "      <td>...</td>\n",
       "      <td>None</td>\n",
       "      <td>None</td>\n",
       "      <td>None</td>\n",
       "      <td>None</td>\n",
       "      <td>None</td>\n",
       "      <td>None</td>\n",
       "      <td>None</td>\n",
       "      <td>2003-07-01</td>\n",
       "      <td>NaT</td>\n",
       "      <td>Current</td>\n",
       "    </tr>\n",
       "    <tr>\n",
       "      <th>347</th>\n",
       "      <td>348</td>\n",
       "      <td>BK-M82B-38</td>\n",
       "      <td>1.0</td>\n",
       "      <td>LB</td>\n",
       "      <td>CM</td>\n",
       "      <td>Mountain-100 Black, 38</td>\n",
       "      <td>Montaña: 100, negra, 38</td>\n",
       "      <td>VTT 100 noir, 38</td>\n",
       "      <td>1898.09</td>\n",
       "      <td>1</td>\n",
       "      <td>...</td>\n",
       "      <td>高档竞赛山地车。性能得到进一步增强，包括创新的 HL 车架、极其平稳的前悬架以及适用于所有地...</td>\n",
       "      <td>دراجة سباقات مخصصة للقيادة في الجبال من أعلى ط...</td>\n",
       "      <td>אופני הרים תחרותיים מהשורה הראשונה. אפשרויות ל...</td>\n",
       "      <td>สุดยอดจักรยานภูเขาสำหรับการแข่งขัน สมบูรณ์แบบด...</td>\n",
       "      <td>\"Top-Mountainbike für Profis. Mit innovativem ...</td>\n",
       "      <td>最高級の競技用マウンテン バイクです。性能強化オプションとしては、革新的な HL フレーム、...</td>\n",
       "      <td>\"En üst model rekabetçi dağ bisikleti. Perform...</td>\n",
       "      <td>2011-07-01</td>\n",
       "      <td>2007-12-28</td>\n",
       "      <td>None</td>\n",
       "    </tr>\n",
       "    <tr>\n",
       "      <th>503</th>\n",
       "      <td>504</td>\n",
       "      <td>FR-T67U-58</td>\n",
       "      <td>16.0</td>\n",
       "      <td>LB</td>\n",
       "      <td>CM</td>\n",
       "      <td>LL Touring Frame - Blue, 58</td>\n",
       "      <td>Cuadro de paseo GB: azul, 58</td>\n",
       "      <td>Cadre de vélo de randonnée LL - bleu, 58</td>\n",
       "      <td>199.85</td>\n",
       "      <td>1</td>\n",
       "      <td>...</td>\n",
       "      <td>轻型一体式铝制车架，可以更直立的骑乘姿势进行环城游。我们开创性的设计提供了最佳舒适度。</td>\n",
       "      <td>يوفر هيكل الألومنيوم سميك الأطراف خفيف الوزن و...</td>\n",
       "      <td>מסגרת קלת משקל מאלומיניום חרוץ מספקת תנוחת רכי...</td>\n",
       "      <td>เฟรมอลูมิเนียมน้ำหนักเบา ทำให้ท่วงท่าในการขับข...</td>\n",
       "      <td>Leichter Aluminiumrahmen für aufrechte Sitzhal...</td>\n",
       "      <td>軽量接合アルミニウム フレームにより、街乗りに適したアップライトなライディング ポジションを...</td>\n",
       "      <td>\"Hafif alüminyum kadrosu, şehirde yaptığınız y...</td>\n",
       "      <td>2013-07-01</td>\n",
       "      <td>NaT</td>\n",
       "      <td>Current</td>\n",
       "    </tr>\n",
       "  </tbody>\n",
       "</table>\n",
       "<p>5 rows × 36 columns</p>\n",
       "</div>"
      ],
      "text/plain": [
       "     ProductKey ProductAlternateKey  ProductSubcategoryKey  \\\n",
       "586         587          BK-M38S-38                    1.0   \n",
       "296         297          FR-M94B-42                   12.0   \n",
       "162         163             MS-1981                    NaN   \n",
       "347         348          BK-M82B-38                    1.0   \n",
       "503         504          FR-T67U-58                   16.0   \n",
       "\n",
       "    WeightUnitMeasureCode SizeUnitMeasureCode             EnglishProductName  \\\n",
       "586                    LB                  CM      Mountain-400-W Silver, 38   \n",
       "296                    LB                  CM  HL Mountain Frame - Black, 42   \n",
       "162                  None                None                  Metal Sheet 7   \n",
       "347                    LB                  CM         Mountain-100 Black, 38   \n",
       "503                    LB                  CM    LL Touring Frame - Blue, 58   \n",
       "\n",
       "                        SpanishProductName  \\\n",
       "586  Montaña: 400 para mujer, plateada, 38   \n",
       "296                                          \n",
       "162                                          \n",
       "347                Montaña: 100, negra, 38   \n",
       "503           Cuadro de paseo GB: azul, 58   \n",
       "\n",
       "                            FrenchProductName  StandardCost  \\\n",
       "586                     VTT 400 -W argent, 38        419.78   \n",
       "296                                                  653.70   \n",
       "162                                                     NaN   \n",
       "347                          VTT 100 noir, 38       1898.09   \n",
       "503  Cadre de vélo de randonnée LL - bleu, 58        199.85   \n",
       "\n",
       "     FinishedGoodsFlag  ...  \\\n",
       "586                  1  ...   \n",
       "296                  1  ...   \n",
       "162                  0  ...   \n",
       "347                  1  ...   \n",
       "503                  1  ...   \n",
       "\n",
       "                                    ChineseDescription  \\\n",
       "586                  此自行车具有优越的性价比。它灵敏且易于操控，越野骑乘也可轻松胜任。   \n",
       "296  每个车架都是在我们位于 Bothell 的工厂中手工制作，具有高质量山地车架所必需的最佳直径...   \n",
       "162                                               None   \n",
       "347  高档竞赛山地车。性能得到进一步增强，包括创新的 HL 车架、极其平稳的前悬架以及适用于所有地...   \n",
       "503        轻型一体式铝制车架，可以更直立的骑乘姿势进行环城游。我们开创性的设计提供了最佳舒适度。   \n",
       "\n",
       "                                     ArabicDescription  \\\n",
       "586  توفر هذه الدراجة مستوى عاليًا من الأداء في حدو...   \n",
       "296  وقد تم تصنيع كل هيكل من تلك الهياكل يدويًا في ...   \n",
       "162                                               None   \n",
       "347  دراجة سباقات مخصصة للقيادة في الجبال من أعلى ط...   \n",
       "503  يوفر هيكل الألومنيوم سميك الأطراف خفيف الوزن و...   \n",
       "\n",
       "                                     HebrewDescription  \\\n",
       "586  אופניים אלה מספקים רמת ביצועים גבוהה במחיר סבי...   \n",
       "296  כל מסגרת מיוצרת ידנית במפעל שלנו ב- Bothell, ל...   \n",
       "162                                               None   \n",
       "347  אופני הרים תחרותיים מהשורה הראשונה. אפשרויות ל...   \n",
       "503  מסגרת קלת משקל מאלומיניום חרוץ מספקת תנוחת רכי...   \n",
       "\n",
       "                                       ThaiDescription  \\\n",
       "586  จักรยานรุ่นนี้มีประสิทธิภาพสูง ในราคาประหยัด  ...   \n",
       "296  เฟรมแต่ละชิ้นผ่านการสร้างด้วยมือในโรงงาน Bothe...   \n",
       "162                                               None   \n",
       "347  สุดยอดจักรยานภูเขาสำหรับการแข่งขัน สมบูรณ์แบบด...   \n",
       "503  เฟรมอลูมิเนียมน้ำหนักเบา ทำให้ท่วงท่าในการขับข...   \n",
       "\n",
       "                                     GermanDescription  \\\n",
       "586  Dieses Fahrrad bietet ein erstklassiges Preis-...   \n",
       "296  \"Jeder Rahmen wird in unserem Werk in Braunsfe...   \n",
       "162                                               None   \n",
       "347  \"Top-Mountainbike für Profis. Mit innovativem ...   \n",
       "503  Leichter Aluminiumrahmen für aufrechte Sitzhal...   \n",
       "\n",
       "                                   JapaneseDescription  \\\n",
       "586  この自転車は予算内で高性能を提供します。応答性と操作性に優れ、オフロードでもゆったりした気分...   \n",
       "296  各フレームは、Bothell 工場で最高級のマウンテン バイクのフレームに必要な最適径および...   \n",
       "162                                               None   \n",
       "347  最高級の競技用マウンテン バイクです。性能強化オプションとしては、革新的な HL フレーム、...   \n",
       "503  軽量接合アルミニウム フレームにより、街乗りに適したアップライトなライディング ポジションを...   \n",
       "\n",
       "                                    TurkishDescription  StartDate    EndDate  \\\n",
       "586  \"Bu bisiklet hem hesaplıdır, hem de yüksek sev... 2013-07-01        NaT   \n",
       "296  \"Her bir kadro Bothell tesisimizde, birinci sı... 2012-07-01 2008-12-27   \n",
       "162                                               None 2003-07-01        NaT   \n",
       "347  \"En üst model rekabetçi dağ bisikleti. Perform... 2011-07-01 2007-12-28   \n",
       "503  \"Hafif alüminyum kadrosu, şehirde yaptığınız y... 2013-07-01        NaT   \n",
       "\n",
       "      Status  \n",
       "586  Current  \n",
       "296     None  \n",
       "162  Current  \n",
       "347     None  \n",
       "503  Current  \n",
       "\n",
       "[5 rows x 36 columns]"
      ]
     },
     "execution_count": 33,
     "metadata": {},
     "output_type": "execute_result"
    }
   ],
   "source": [
    "df.sample(5)"
   ]
  },
  {
   "cell_type": "markdown",
   "id": "9d1826fd-6b4b-4050-afd9-1b13000702fd",
   "metadata": {},
   "source": [
    "### Quali sono i colori disponibili?"
   ]
  },
  {
   "cell_type": "code",
   "execution_count": 15,
   "id": "8980ecee-3ece-4cb2-81c0-d582f7745065",
   "metadata": {},
   "outputs": [
    {
     "data": {
      "text/plain": [
       "array(['NA', 'Black', 'Silver', 'Red', 'White', 'Blue', 'Multi', 'Yellow',\n",
       "       'Grey', 'Silver/Black'], dtype=object)"
      ]
     },
     "execution_count": 15,
     "metadata": {},
     "output_type": "execute_result"
    }
   ],
   "source": [
    "df['Color'].unique()"
   ]
  },
  {
   "cell_type": "markdown",
   "id": "113c803f-e427-4f55-b39c-cbe60189db91",
   "metadata": {},
   "source": [
    "### In media quanto pesano i prodotti?"
   ]
  },
  {
   "cell_type": "code",
   "execution_count": 20,
   "id": "999cc691-c45d-4625-8a2d-bf0379aa3739",
   "metadata": {},
   "outputs": [
    {
     "data": {
      "text/plain": [
       "56.1932269503546"
      ]
     },
     "execution_count": 20,
     "metadata": {},
     "output_type": "execute_result"
    }
   ],
   "source": [
    "df['Weight'].mean()"
   ]
  },
  {
   "cell_type": "markdown",
   "id": "837ea5b7-f7b4-49b9-ba00-e08e8dad2aeb",
   "metadata": {},
   "source": [
    "### Quanto pesa il più leggero?"
   ]
  },
  {
   "cell_type": "code",
   "execution_count": 62,
   "id": "e8f2390b-963d-4f5a-ae6b-ba37518caab8",
   "metadata": {},
   "outputs": [
    {
     "data": {
      "text/plain": [
       "2.12"
      ]
     },
     "execution_count": 62,
     "metadata": {},
     "output_type": "execute_result"
    }
   ],
   "source": [
    "df['Weight'].min()"
   ]
  },
  {
   "cell_type": "markdown",
   "id": "a1c2c6dc-b8a5-4801-9615-fc45504798b0",
   "metadata": {},
   "source": [
    "### Quanto pesa il più pesante?"
   ]
  },
  {
   "cell_type": "code",
   "execution_count": 65,
   "id": "1a639bca-4c0e-492c-b8a1-f0da39a9a56b",
   "metadata": {},
   "outputs": [
    {
     "data": {
      "text/plain": [
       "1050.0"
      ]
     },
     "execution_count": 65,
     "metadata": {},
     "output_type": "execute_result"
    }
   ],
   "source": [
    "df['Weight'].max()"
   ]
  },
  {
   "cell_type": "markdown",
   "id": "e5ad84c1-ccb1-43d1-99d7-b677bd11270e",
   "metadata": {},
   "source": [
    "### Quanti prodotti pesano più di 100 Kg?"
   ]
  },
  {
   "cell_type": "code",
   "execution_count": 114,
   "id": "ea89b010-a02e-4ea4-8110-acf91b655bd7",
   "metadata": {},
   "outputs": [
    {
     "data": {
      "text/plain": [
       "(28,)"
      ]
     },
     "execution_count": 114,
     "metadata": {},
     "output_type": "execute_result"
    }
   ],
   "source": [
    "kg100=df.loc[:,'Weight']>100           #scrivo la condizionedi estrazione e aggiungo variabile\n",
    "peso_massimo=df.loc[kg100, 'Weight']   #creo variabile per selezionare sia la condizione che la colonna di interesse\n",
    "peso_massimo.shape                     #conto quanti valori corrispondono a questa condizione"
   ]
  },
  {
   "cell_type": "markdown",
   "id": "e53d93bd-b682-4860-804a-330a10a5e85c",
   "metadata": {},
   "source": [
    "### Quanto costano in media i prodotti (colonna DealerPrice)?"
   ]
  },
  {
   "cell_type": "code",
   "execution_count": 141,
   "id": "d572c483-df43-46f5-a889-1c1a5de8efeb",
   "metadata": {},
   "outputs": [
    {
     "data": {
      "text/plain": [
       "448.5970597468353"
      ]
     },
     "execution_count": 141,
     "metadata": {},
     "output_type": "execute_result"
    }
   ],
   "source": [
    "df['DealerPrice'].mean()"
   ]
  },
  {
   "cell_type": "markdown",
   "id": "043d9f40-9f16-44a2-943d-dc39bf16cdc2",
   "metadata": {},
   "source": [
    "### Se prendiamo un quarto di tutti i prodotti, in modo che siano i più costosi, quale sarà il loro range di prezzo?"
   ]
  },
  {
   "cell_type": "code",
   "execution_count": 121,
   "id": "844e1a25-dd3d-4947-a2b3-013e6348324a",
   "metadata": {},
   "outputs": [
    {
     "data": {
      "text/html": [
       "<div>\n",
       "<style scoped>\n",
       "    .dataframe tbody tr th:only-of-type {\n",
       "        vertical-align: middle;\n",
       "    }\n",
       "\n",
       "    .dataframe tbody tr th {\n",
       "        vertical-align: top;\n",
       "    }\n",
       "\n",
       "    .dataframe thead th {\n",
       "        text-align: right;\n",
       "    }\n",
       "</style>\n",
       "<table border=\"1\" class=\"dataframe\">\n",
       "  <thead>\n",
       "    <tr style=\"text-align: right;\">\n",
       "      <th></th>\n",
       "      <th>ProductKey</th>\n",
       "      <th>ProductSubcategoryKey</th>\n",
       "      <th>StandardCost</th>\n",
       "      <th>FinishedGoodsFlag</th>\n",
       "      <th>SafetyStockLevel</th>\n",
       "      <th>ReorderPoint</th>\n",
       "      <th>ListPrice</th>\n",
       "      <th>Weight</th>\n",
       "      <th>DaysToManufacture</th>\n",
       "      <th>DealerPrice</th>\n",
       "      <th>StartDate</th>\n",
       "      <th>EndDate</th>\n",
       "    </tr>\n",
       "  </thead>\n",
       "  <tbody>\n",
       "    <tr>\n",
       "      <th>count</th>\n",
       "      <td>606.00000</td>\n",
       "      <td>397.000000</td>\n",
       "      <td>397.000000</td>\n",
       "      <td>606.000000</td>\n",
       "      <td>606.000000</td>\n",
       "      <td>606.000000</td>\n",
       "      <td>395.000000</td>\n",
       "      <td>282.000000</td>\n",
       "      <td>606.000000</td>\n",
       "      <td>395.000000</td>\n",
       "      <td>606</td>\n",
       "      <td>200</td>\n",
       "    </tr>\n",
       "    <tr>\n",
       "      <th>mean</th>\n",
       "      <td>303.50000</td>\n",
       "      <td>12.128463</td>\n",
       "      <td>436.823073</td>\n",
       "      <td>0.655116</td>\n",
       "      <td>495.201320</td>\n",
       "      <td>371.400990</td>\n",
       "      <td>747.661544</td>\n",
       "      <td>56.193227</td>\n",
       "      <td>1.201320</td>\n",
       "      <td>448.597060</td>\n",
       "      <td>2009-07-26 03:12:28.514851328</td>\n",
       "      <td>2008-08-17 14:24:00</td>\n",
       "    </tr>\n",
       "    <tr>\n",
       "      <th>min</th>\n",
       "      <td>1.00000</td>\n",
       "      <td>1.000000</td>\n",
       "      <td>0.860000</td>\n",
       "      <td>0.000000</td>\n",
       "      <td>4.000000</td>\n",
       "      <td>3.000000</td>\n",
       "      <td>2.290000</td>\n",
       "      <td>2.120000</td>\n",
       "      <td>0.000000</td>\n",
       "      <td>1.374000</td>\n",
       "      <td>2003-07-01 00:00:00</td>\n",
       "      <td>2007-12-28 00:00:00</td>\n",
       "    </tr>\n",
       "    <tr>\n",
       "      <th>25%</th>\n",
       "      <td>152.25000</td>\n",
       "      <td>2.000000</td>\n",
       "      <td>37.120000</td>\n",
       "      <td>0.000000</td>\n",
       "      <td>100.000000</td>\n",
       "      <td>75.000000</td>\n",
       "      <td>69.990000</td>\n",
       "      <td>2.680000</td>\n",
       "      <td>0.000000</td>\n",
       "      <td>41.994000</td>\n",
       "      <td>2003-07-01 00:00:00</td>\n",
       "      <td>2007-12-28 00:00:00</td>\n",
       "    </tr>\n",
       "    <tr>\n",
       "      <th>50%</th>\n",
       "      <td>303.50000</td>\n",
       "      <td>13.000000</td>\n",
       "      <td>204.630000</td>\n",
       "      <td>1.000000</td>\n",
       "      <td>500.000000</td>\n",
       "      <td>375.000000</td>\n",
       "      <td>364.090000</td>\n",
       "      <td>15.420000</td>\n",
       "      <td>1.000000</td>\n",
       "      <td>218.454000</td>\n",
       "      <td>2012-07-01 00:00:00</td>\n",
       "      <td>2008-12-27 00:00:00</td>\n",
       "    </tr>\n",
       "    <tr>\n",
       "      <th>75%</th>\n",
       "      <td>454.75000</td>\n",
       "      <td>16.000000</td>\n",
       "      <td>660.910000</td>\n",
       "      <td>1.000000</td>\n",
       "      <td>1000.000000</td>\n",
       "      <td>750.000000</td>\n",
       "      <td>1204.320000</td>\n",
       "      <td>24.130000</td>\n",
       "      <td>1.000000</td>\n",
       "      <td>722.594900</td>\n",
       "      <td>2013-07-01 00:00:00</td>\n",
       "      <td>2008-12-27 00:00:00</td>\n",
       "    </tr>\n",
       "    <tr>\n",
       "      <th>max</th>\n",
       "      <td>606.00000</td>\n",
       "      <td>37.000000</td>\n",
       "      <td>2171.290000</td>\n",
       "      <td>1.000000</td>\n",
       "      <td>1000.000000</td>\n",
       "      <td>750.000000</td>\n",
       "      <td>3578.270000</td>\n",
       "      <td>1050.000000</td>\n",
       "      <td>4.000000</td>\n",
       "      <td>2146.962000</td>\n",
       "      <td>2013-07-01 00:00:00</td>\n",
       "      <td>2008-12-27 00:00:00</td>\n",
       "    </tr>\n",
       "    <tr>\n",
       "      <th>std</th>\n",
       "      <td>175.08141</td>\n",
       "      <td>9.423328</td>\n",
       "      <td>497.343079</td>\n",
       "      <td>0.475723</td>\n",
       "      <td>364.007114</td>\n",
       "      <td>273.005336</td>\n",
       "      <td>838.708359</td>\n",
       "      <td>158.000652</td>\n",
       "      <td>1.508893</td>\n",
       "      <td>503.225071</td>\n",
       "      <td>NaN</td>\n",
       "      <td>NaN</td>\n",
       "    </tr>\n",
       "  </tbody>\n",
       "</table>\n",
       "</div>"
      ],
      "text/plain": [
       "       ProductKey  ProductSubcategoryKey  StandardCost  FinishedGoodsFlag  \\\n",
       "count   606.00000             397.000000    397.000000         606.000000   \n",
       "mean    303.50000              12.128463    436.823073           0.655116   \n",
       "min       1.00000               1.000000      0.860000           0.000000   \n",
       "25%     152.25000               2.000000     37.120000           0.000000   \n",
       "50%     303.50000              13.000000    204.630000           1.000000   \n",
       "75%     454.75000              16.000000    660.910000           1.000000   \n",
       "max     606.00000              37.000000   2171.290000           1.000000   \n",
       "std     175.08141               9.423328    497.343079           0.475723   \n",
       "\n",
       "       SafetyStockLevel  ReorderPoint    ListPrice       Weight  \\\n",
       "count        606.000000    606.000000   395.000000   282.000000   \n",
       "mean         495.201320    371.400990   747.661544    56.193227   \n",
       "min            4.000000      3.000000     2.290000     2.120000   \n",
       "25%          100.000000     75.000000    69.990000     2.680000   \n",
       "50%          500.000000    375.000000   364.090000    15.420000   \n",
       "75%         1000.000000    750.000000  1204.320000    24.130000   \n",
       "max         1000.000000    750.000000  3578.270000  1050.000000   \n",
       "std          364.007114    273.005336   838.708359   158.000652   \n",
       "\n",
       "       DaysToManufacture  DealerPrice                      StartDate  \\\n",
       "count         606.000000   395.000000                            606   \n",
       "mean            1.201320   448.597060  2009-07-26 03:12:28.514851328   \n",
       "min             0.000000     1.374000            2003-07-01 00:00:00   \n",
       "25%             0.000000    41.994000            2003-07-01 00:00:00   \n",
       "50%             1.000000   218.454000            2012-07-01 00:00:00   \n",
       "75%             1.000000   722.594900            2013-07-01 00:00:00   \n",
       "max             4.000000  2146.962000            2013-07-01 00:00:00   \n",
       "std             1.508893   503.225071                            NaN   \n",
       "\n",
       "                   EndDate  \n",
       "count                  200  \n",
       "mean   2008-08-17 14:24:00  \n",
       "min    2007-12-28 00:00:00  \n",
       "25%    2007-12-28 00:00:00  \n",
       "50%    2008-12-27 00:00:00  \n",
       "75%    2008-12-27 00:00:00  \n",
       "max    2008-12-27 00:00:00  \n",
       "std                    NaN  "
      ]
     },
     "execution_count": 121,
     "metadata": {},
     "output_type": "execute_result"
    }
   ],
   "source": [
    "df.describe()   # utilizzo questo metodo e vado a vedere direttamente nella riga 25%: 41.994000 è il valore"
   ]
  },
  {
   "cell_type": "markdown",
   "id": "6f93570f-98b2-45db-9da3-b8d8013a1755",
   "metadata": {},
   "source": [
    "### Qual è il prezzo medio per i prodotti di colore blu?"
   ]
  },
  {
   "cell_type": "markdown",
   "id": "fd2e5378-68cc-4d15-8fbf-2732a0602866",
   "metadata": {},
   "source": [
    "#### Metodo con query SQL"
   ]
  },
  {
   "cell_type": "code",
   "execution_count": 57,
   "id": "d7f305dd-5572-49b0-bc04-a49048a892bd",
   "metadata": {},
   "outputs": [
    {
     "data": {
      "text/plain": [
       "'527.57'"
      ]
     },
     "execution_count": 57,
     "metadata": {},
     "output_type": "execute_result"
    }
   ],
   "source": [
    "query_blue='SELECT* FROM dimproduct WHERE COLOR =\"Blue\"' #query con filtro colore blu\n",
    "df_blue=pd.read_sql(sql=query_blue, con=db_engine)       #query diventa una variabile per Python\n",
    "prezzo_medio_blue=df_blue['StandardCost'].mean()         #variabile per creare la condizione di media\n",
    "\"%.2f\" % prezzo_medio_blue "
   ]
  },
  {
   "cell_type": "markdown",
   "id": "a582e111-3616-48ac-926b-c101bb5edd97",
   "metadata": {},
   "source": [
    "#### Metodo con pd"
   ]
  },
  {
   "cell_type": "code",
   "execution_count": 148,
   "id": "ca850281-f82a-43a4-a198-66e161d287ab",
   "metadata": {},
   "outputs": [
    {
     "data": {
      "text/plain": [
       "516.0631785714286"
      ]
     },
     "execution_count": 148,
     "metadata": {},
     "output_type": "execute_result"
    }
   ],
   "source": [
    "filtro_blue= df.loc[:,'Color']=='Blue'         #creo un filtro con la condizione richiesta\n",
    "costi_blue=df.loc[filtro_blue, 'DealerPrice']  #creo una variabile in cui applico il filtro alla colonna che mi interessa\n",
    "costi_blue.shape                               #mi da quanti prodotti rientrano nel filtro colore blue\n",
    "costi_blue.mean()                              #applico la funzione media"
   ]
  },
  {
   "cell_type": "markdown",
   "id": "00359d33-1855-4b90-8583-2a8637cf42d4",
   "metadata": {},
   "source": [
    "### Qual è il prezzo medio per i prodotti di colore rosso o nero? "
   ]
  },
  {
   "cell_type": "markdown",
   "id": "665992e8-3625-403a-92e2-8abe9f67db72",
   "metadata": {},
   "source": [
    "#### Metodo con query SQL"
   ]
  },
  {
   "cell_type": "code",
   "execution_count": 66,
   "id": "ff3289e2-886f-4383-bff6-6a6ff98b4903",
   "metadata": {},
   "outputs": [
    {
     "data": {
      "text/plain": [
       "'537.45'"
      ]
     },
     "execution_count": 66,
     "metadata": {},
     "output_type": "execute_result"
    }
   ],
   "source": [
    "query_color='SELECT* FROM dimproduct WHERE COLOR =\"Red\" OR COLOR = \"Black\"' \n",
    "df_color=pd.read_sql(sql=query_color, con=db_engine)\n",
    "prezzo_medio_color=df_color['StandardCost'].mean()\n",
    "\"%.2f\" % prezzo_medio_color"
   ]
  },
  {
   "cell_type": "markdown",
   "id": "224ae264-c8c8-4aac-b65e-bb2e66cc29bf",
   "metadata": {},
   "source": [
    "#### Metodo con pd"
   ]
  },
  {
   "cell_type": "code",
   "execution_count": 176,
   "id": "34b51904-bd77-448d-aa46-da0b21a78445",
   "metadata": {},
   "outputs": [
    {
     "data": {
      "text/plain": [
       "550.2481873684211"
      ]
     },
     "execution_count": 176,
     "metadata": {},
     "output_type": "execute_result"
    }
   ],
   "source": [
    "filtro_red=df.loc[:, 'Color']=='Red'               #filtro variabile rosso\n",
    "filtro_black=df.loc[:, 'Color']=='Black'           #filtro variabile nero\n",
    "filtro_colori= filtro_red | filtro_black           #unisco i due filtri nella condizione OR\n",
    "\n",
    "costi_colori=df.loc[filtro_colori, 'DealerPrice']  #variabile a cui applico il filtro sulla colonna che mi interessa\n",
    "costi_colori.mean()                                #applico la funzione media"
   ]
  },
  {
   "cell_type": "markdown",
   "id": "57ddf517-5879-4c5d-a8c2-5c92ba002aed",
   "metadata": {},
   "source": [
    "### Qual è il prezzo massimo per i prodotti di taglia 42 e peso oltre i 10 Kg?"
   ]
  },
  {
   "cell_type": "markdown",
   "id": "7703840d-21d3-48e3-9ae3-7e5a1059a547",
   "metadata": {},
   "source": [
    "#### Metodo con query SQL"
   ]
  },
  {
   "cell_type": "code",
   "execution_count": 78,
   "id": "a5830232-67aa-4897-bb92-faf87b849c63",
   "metadata": {},
   "outputs": [
    {
     "data": {
      "text/plain": [
       "'1912.15'"
      ]
     },
     "execution_count": 78,
     "metadata": {},
     "output_type": "execute_result"
    }
   ],
   "source": [
    "query_size_weight='SELECT * FROM dimproduct WHERE SIZE =\"42\" AND WEIGHT >10' \n",
    "df_size_weight=pd.read_sql(sql=query_size_weight, con=db_engine)\n",
    "prezzo_max=df_size_weight['StandardCost'].max()\n",
    "\"%.2f\" % prezzo_max"
   ]
  },
  {
   "cell_type": "markdown",
   "id": "0c01e6f8-540b-473d-92dc-62b51e326e8f",
   "metadata": {},
   "source": [
    "#### Metodo con pd"
   ]
  },
  {
   "cell_type": "code",
   "execution_count": 186,
   "id": "197955ab-eb2f-44d9-9040-3260bdbf08a2",
   "metadata": {},
   "outputs": [
    {
     "data": {
      "text/plain": [
       "2039.994"
      ]
     },
     "execution_count": 186,
     "metadata": {},
     "output_type": "execute_result"
    }
   ],
   "source": [
    "filtro_taglia=df.loc[:, 'Size']=='42'              #filtro variabile1\n",
    "filtro_peso=df.loc[:, 'Weight']>10                 #filtro variabile2\n",
    "filtro= filtro_taglia & filtro_peso                #unisco i due filtri nella condizione \n",
    "\n",
    "prezzo_max=df.loc[filtro, 'DealerPrice']           #uso .loc[] con filtro e colonna che mi interessa\n",
    "prezzo_max.max()                                   #applico la funzione media"
   ]
  },
  {
   "cell_type": "markdown",
   "id": "ecb0b14a-b243-47d0-ba00-804c56d0c462",
   "metadata": {},
   "source": [
    "### Qual è il nome inglese e il costo di produzione (StandardCost) di tutti i prodotti di taglia 42, peso oltre i 10 Kg e colore argento?"
   ]
  },
  {
   "cell_type": "markdown",
   "id": "912ccfbb-d250-4ab4-aa27-f5f715cc9536",
   "metadata": {},
   "source": [
    "#### Metodo con query SQL"
   ]
  },
  {
   "cell_type": "code",
   "execution_count": 80,
   "id": "18f61592-58d8-46f3-8bd6-d6b3b7f0e76c",
   "metadata": {},
   "outputs": [
    {
     "data": {
      "text/html": [
       "<div>\n",
       "<style scoped>\n",
       "    .dataframe tbody tr th:only-of-type {\n",
       "        vertical-align: middle;\n",
       "    }\n",
       "\n",
       "    .dataframe tbody tr th {\n",
       "        vertical-align: top;\n",
       "    }\n",
       "\n",
       "    .dataframe thead th {\n",
       "        text-align: right;\n",
       "    }\n",
       "</style>\n",
       "<table border=\"1\" class=\"dataframe\">\n",
       "  <thead>\n",
       "    <tr style=\"text-align: right;\">\n",
       "      <th></th>\n",
       "      <th>EnglishProductName</th>\n",
       "      <th>StandardCost</th>\n",
       "    </tr>\n",
       "  </thead>\n",
       "  <tbody>\n",
       "    <tr>\n",
       "      <th>0</th>\n",
       "      <td>Mountain-100 Silver, 42</td>\n",
       "      <td>1912.15</td>\n",
       "    </tr>\n",
       "    <tr>\n",
       "      <th>1</th>\n",
       "      <td>Mountain-200 Silver, 42</td>\n",
       "      <td>1117.86</td>\n",
       "    </tr>\n",
       "    <tr>\n",
       "      <th>2</th>\n",
       "      <td>Mountain-200 Silver, 42</td>\n",
       "      <td>1265.62</td>\n",
       "    </tr>\n",
       "    <tr>\n",
       "      <th>3</th>\n",
       "      <td>Mountain-400-W Silver, 42</td>\n",
       "      <td>419.78</td>\n",
       "    </tr>\n",
       "    <tr>\n",
       "      <th>4</th>\n",
       "      <td>Mountain-500 Silver, 42</td>\n",
       "      <td>308.22</td>\n",
       "    </tr>\n",
       "  </tbody>\n",
       "</table>\n",
       "</div>"
      ],
      "text/plain": [
       "          EnglishProductName  StandardCost\n",
       "0    Mountain-100 Silver, 42       1912.15\n",
       "1    Mountain-200 Silver, 42       1117.86\n",
       "2    Mountain-200 Silver, 42       1265.62\n",
       "3  Mountain-400-W Silver, 42        419.78\n",
       "4    Mountain-500 Silver, 42        308.22"
      ]
     },
     "execution_count": 80,
     "metadata": {},
     "output_type": "execute_result"
    }
   ],
   "source": [
    "query_size_weight_color='SELECT * FROM dimproduct WHERE SIZE =\"42\" AND WEIGHT >10 AND COLOR=\"SILVER\"'\n",
    "df_size_weight_color=pd.read_sql(sql=query_size_weight_color, con=db_engine)\n",
    "df_size_weight_color.loc[:, ['EnglishProductName', 'StandardCost']]"
   ]
  },
  {
   "cell_type": "markdown",
   "id": "d66a74be-b948-461d-a8ba-79abf8e6fe97",
   "metadata": {},
   "source": [
    "#### Metodo con pd"
   ]
  },
  {
   "cell_type": "code",
   "execution_count": 194,
   "id": "2ee8b62d-caea-4f60-a34a-1ed19f62f058",
   "metadata": {},
   "outputs": [
    {
     "data": {
      "text/html": [
       "<div>\n",
       "<style scoped>\n",
       "    .dataframe tbody tr th:only-of-type {\n",
       "        vertical-align: middle;\n",
       "    }\n",
       "\n",
       "    .dataframe tbody tr th {\n",
       "        vertical-align: top;\n",
       "    }\n",
       "\n",
       "    .dataframe thead th {\n",
       "        text-align: right;\n",
       "    }\n",
       "</style>\n",
       "<table border=\"1\" class=\"dataframe\">\n",
       "  <thead>\n",
       "    <tr style=\"text-align: right;\">\n",
       "      <th></th>\n",
       "      <th>EnglishProductName</th>\n",
       "      <th>StandardCost</th>\n",
       "      <th>Size</th>\n",
       "      <th>Weight</th>\n",
       "      <th>Color</th>\n",
       "    </tr>\n",
       "  </thead>\n",
       "  <tbody>\n",
       "    <tr>\n",
       "      <th>344</th>\n",
       "      <td>Mountain-100 Silver, 42</td>\n",
       "      <td>1912.15</td>\n",
       "      <td>42</td>\n",
       "      <td>20.77</td>\n",
       "      <td>Silver</td>\n",
       "    </tr>\n",
       "    <tr>\n",
       "      <th>353</th>\n",
       "      <td>Mountain-200 Silver, 42</td>\n",
       "      <td>1117.86</td>\n",
       "      <td>42</td>\n",
       "      <td>23.77</td>\n",
       "      <td>Silver</td>\n",
       "    </tr>\n",
       "    <tr>\n",
       "      <th>354</th>\n",
       "      <td>Mountain-200 Silver, 42</td>\n",
       "      <td>1265.62</td>\n",
       "      <td>42</td>\n",
       "      <td>23.77</td>\n",
       "      <td>Silver</td>\n",
       "    </tr>\n",
       "    <tr>\n",
       "      <th>588</th>\n",
       "      <td>Mountain-400-W Silver, 42</td>\n",
       "      <td>419.78</td>\n",
       "      <td>42</td>\n",
       "      <td>27.13</td>\n",
       "      <td>Silver</td>\n",
       "    </tr>\n",
       "    <tr>\n",
       "      <th>591</th>\n",
       "      <td>Mountain-500 Silver, 42</td>\n",
       "      <td>308.22</td>\n",
       "      <td>42</td>\n",
       "      <td>27.77</td>\n",
       "      <td>Silver</td>\n",
       "    </tr>\n",
       "  </tbody>\n",
       "</table>\n",
       "</div>"
      ],
      "text/plain": [
       "            EnglishProductName  StandardCost Size  Weight   Color\n",
       "344    Mountain-100 Silver, 42       1912.15   42   20.77  Silver\n",
       "353    Mountain-200 Silver, 42       1117.86   42   23.77  Silver\n",
       "354    Mountain-200 Silver, 42       1265.62   42   23.77  Silver\n",
       "588  Mountain-400-W Silver, 42        419.78   42   27.13  Silver\n",
       "591    Mountain-500 Silver, 42        308.22   42   27.77  Silver"
      ]
     },
     "execution_count": 194,
     "metadata": {},
     "output_type": "execute_result"
    }
   ],
   "source": [
    "filtro_taglia=df.loc[:, 'Size']=='42'                  #filtro variabile1\n",
    "filtro_peso=df.loc[:, 'Weight']>10                     #filtro variabile2\n",
    "filtro_colore=df.loc[:, 'Color'] =='Silver'            #filtro variabile3\n",
    "\n",
    "filtro= filtro_taglia & filtro_peso & filtro_colore    #unisco i filtri nella condizione \n",
    "df.loc[filtro,['EnglishProductName', 'StandardCost', 'Size', 'Weight', 'Color']]  "
   ]
  },
  {
   "cell_type": "markdown",
   "id": "b19d562b-336f-47f8-ac5c-bc4c90045d87",
   "metadata": {},
   "source": [
    "### Esaminiamo la differenza tra lo StandardCost e il DealerPrice degli ultimi 20 elementi del dataset: c'è un pattern? C'è qualche elemento che non lo segue?"
   ]
  },
  {
   "cell_type": "code",
   "execution_count": 98,
   "id": "d5573561-16ff-4184-b072-4b3d61c03a45",
   "metadata": {},
   "outputs": [
    {
     "name": "stdout",
     "output_type": "stream",
     "text": [
      "            EnglishProductName  StandardCost  DealerPrice\n",
      "586  Mountain-400-W Silver, 38        419.78      461.694\n",
      "587  Mountain-400-W Silver, 40        419.78      461.694\n",
      "588  Mountain-400-W Silver, 42        419.78      461.694\n",
      "589  Mountain-400-W Silver, 46        419.78      461.694\n",
      "590    Mountain-500 Silver, 40        308.22      338.994\n",
      "591    Mountain-500 Silver, 42        308.22      338.994\n",
      "592    Mountain-500 Silver, 44        308.22      338.994\n",
      "593    Mountain-500 Silver, 48        308.22      338.994\n",
      "594    Mountain-500 Silver, 52        308.22      338.994\n",
      "595     Mountain-500 Black, 40        294.58      323.994\n",
      "596     Mountain-500 Black, 42        294.58      323.994\n",
      "597     Mountain-500 Black, 44        294.58      323.994\n",
      "598     Mountain-500 Black, 48        294.58      323.994\n",
      "599     Mountain-500 Black, 52        294.58      323.994\n",
      "600          LL Bottom Bracket         23.97       32.394\n",
      "601          ML Bottom Bracket         44.95       60.744\n",
      "602          HL Bottom Bracket         53.94       72.894\n",
      "603         Road-750 Black, 44        343.65      323.994\n",
      "604         Road-750 Black, 48        343.65      323.994\n",
      "605         Road-750 Black, 52        343.65      323.994\n"
     ]
    }
   ],
   "source": [
    "print(df[['EnglishProductName', 'StandardCost', 'DealerPrice']].tail(20))"
   ]
  },
  {
   "cell_type": "markdown",
   "id": "a8268a8c-2f36-4490-899e-9d499a08cf63",
   "metadata": {},
   "source": [
    "#### Risposta: normalmente StandardCost è sempre minore di DealerPrice tranne nel caso delle righe 603, 604, 605 in cui la tendenza si inverte"
   ]
  },
  {
   "cell_type": "code",
   "execution_count": null,
   "id": "b4f42855-a694-46f4-922e-0518acabd189",
   "metadata": {},
   "outputs": [],
   "source": []
  }
 ],
 "metadata": {
  "kernelspec": {
   "display_name": "Python 3 (ipykernel)",
   "language": "python",
   "name": "python3"
  },
  "language_info": {
   "codemirror_mode": {
    "name": "ipython",
    "version": 3
   },
   "file_extension": ".py",
   "mimetype": "text/x-python",
   "name": "python",
   "nbconvert_exporter": "python",
   "pygments_lexer": "ipython3",
   "version": "3.11.7"
  }
 },
 "nbformat": 4,
 "nbformat_minor": 5
}
