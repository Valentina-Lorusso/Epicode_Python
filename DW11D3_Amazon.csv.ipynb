{
 "cells": [
  {
   "cell_type": "markdown",
   "id": "f14c58c7-c8f3-4551-bda6-98e0f8e78f7e",
   "metadata": {},
   "source": [
    "# Vediamo come importare un dataset"
   ]
  },
  {
   "cell_type": "code",
   "execution_count": 10,
   "id": "7f587a37-54eb-46bc-8f8e-934331bb0387",
   "metadata": {},
   "outputs": [],
   "source": [
    "import pandas as pd"
   ]
  },
  {
   "cell_type": "code",
   "execution_count": 11,
   "id": "277aea73-2495-4983-a93f-da723e9a6e09",
   "metadata": {},
   "outputs": [],
   "source": [
    "file_path='C:/Users/Valentina/Python/beginner_datasets/iris.csv'\n",
    "iris=pd.read_csv(file_path)"
   ]
  },
  {
   "cell_type": "code",
   "execution_count": 24,
   "id": "ea093a44-cd89-408b-9eb4-e6a64d519cde",
   "metadata": {},
   "outputs": [
    {
     "data": {
      "text/plain": [
       "(150, 5)"
      ]
     },
     "execution_count": 24,
     "metadata": {},
     "output_type": "execute_result"
    }
   ],
   "source": [
    "iris.shape"
   ]
  },
  {
   "cell_type": "code",
   "execution_count": 17,
   "id": "9bdbba50-1fe4-4b20-ac5c-f8a20af5a70a",
   "metadata": {},
   "outputs": [
    {
     "data": {
      "text/plain": [
       "Index(['sepal_length', 'sepal_width', 'petal_length', 'petal_width',\n",
       "       'species'],\n",
       "      dtype='object')"
      ]
     },
     "execution_count": 17,
     "metadata": {},
     "output_type": "execute_result"
    }
   ],
   "source": [
    "iris.columns"
   ]
  },
  {
   "cell_type": "code",
   "execution_count": 19,
   "id": "712add06-f8b5-49d0-9a30-c72f4453c86d",
   "metadata": {},
   "outputs": [
    {
     "data": {
      "text/html": [
       "<div>\n",
       "<style scoped>\n",
       "    .dataframe tbody tr th:only-of-type {\n",
       "        vertical-align: middle;\n",
       "    }\n",
       "\n",
       "    .dataframe tbody tr th {\n",
       "        vertical-align: top;\n",
       "    }\n",
       "\n",
       "    .dataframe thead th {\n",
       "        text-align: right;\n",
       "    }\n",
       "</style>\n",
       "<table border=\"1\" class=\"dataframe\">\n",
       "  <thead>\n",
       "    <tr style=\"text-align: right;\">\n",
       "      <th></th>\n",
       "      <th>sepal_length</th>\n",
       "      <th>sepal_width</th>\n",
       "      <th>petal_length</th>\n",
       "      <th>petal_width</th>\n",
       "    </tr>\n",
       "  </thead>\n",
       "  <tbody>\n",
       "    <tr>\n",
       "      <th>count</th>\n",
       "      <td>150.000000</td>\n",
       "      <td>150.000000</td>\n",
       "      <td>150.000000</td>\n",
       "      <td>150.000000</td>\n",
       "    </tr>\n",
       "    <tr>\n",
       "      <th>mean</th>\n",
       "      <td>5.843333</td>\n",
       "      <td>3.054000</td>\n",
       "      <td>3.758667</td>\n",
       "      <td>1.198667</td>\n",
       "    </tr>\n",
       "    <tr>\n",
       "      <th>std</th>\n",
       "      <td>0.828066</td>\n",
       "      <td>0.433594</td>\n",
       "      <td>1.764420</td>\n",
       "      <td>0.763161</td>\n",
       "    </tr>\n",
       "    <tr>\n",
       "      <th>min</th>\n",
       "      <td>4.300000</td>\n",
       "      <td>2.000000</td>\n",
       "      <td>1.000000</td>\n",
       "      <td>0.100000</td>\n",
       "    </tr>\n",
       "    <tr>\n",
       "      <th>25%</th>\n",
       "      <td>5.100000</td>\n",
       "      <td>2.800000</td>\n",
       "      <td>1.600000</td>\n",
       "      <td>0.300000</td>\n",
       "    </tr>\n",
       "    <tr>\n",
       "      <th>50%</th>\n",
       "      <td>5.800000</td>\n",
       "      <td>3.000000</td>\n",
       "      <td>4.350000</td>\n",
       "      <td>1.300000</td>\n",
       "    </tr>\n",
       "    <tr>\n",
       "      <th>75%</th>\n",
       "      <td>6.400000</td>\n",
       "      <td>3.300000</td>\n",
       "      <td>5.100000</td>\n",
       "      <td>1.800000</td>\n",
       "    </tr>\n",
       "    <tr>\n",
       "      <th>max</th>\n",
       "      <td>7.900000</td>\n",
       "      <td>4.400000</td>\n",
       "      <td>6.900000</td>\n",
       "      <td>2.500000</td>\n",
       "    </tr>\n",
       "  </tbody>\n",
       "</table>\n",
       "</div>"
      ],
      "text/plain": [
       "       sepal_length  sepal_width  petal_length  petal_width\n",
       "count    150.000000   150.000000    150.000000   150.000000\n",
       "mean       5.843333     3.054000      3.758667     1.198667\n",
       "std        0.828066     0.433594      1.764420     0.763161\n",
       "min        4.300000     2.000000      1.000000     0.100000\n",
       "25%        5.100000     2.800000      1.600000     0.300000\n",
       "50%        5.800000     3.000000      4.350000     1.300000\n",
       "75%        6.400000     3.300000      5.100000     1.800000\n",
       "max        7.900000     4.400000      6.900000     2.500000"
      ]
     },
     "execution_count": 19,
     "metadata": {},
     "output_type": "execute_result"
    }
   ],
   "source": [
    "iris.describe()"
   ]
  },
  {
   "cell_type": "code",
   "execution_count": 30,
   "id": "302ce724-6321-4968-919e-cfe111b22cde",
   "metadata": {},
   "outputs": [
    {
     "data": {
      "text/plain": [
       "sepal_length    35\n",
       "sepal_width     23\n",
       "petal_length    43\n",
       "petal_width     22\n",
       "species          3\n",
       "dtype: int64"
      ]
     },
     "execution_count": 30,
     "metadata": {},
     "output_type": "execute_result"
    }
   ],
   "source": [
    "iris.nunique()"
   ]
  },
  {
   "cell_type": "markdown",
   "id": "a5bf22e1-1c50-4a2e-94b9-2999517cd94d",
   "metadata": {},
   "source": [
    "# Esercizio amazon.csv"
   ]
  },
  {
   "cell_type": "code",
   "execution_count": 12,
   "id": "7cbe4034-f5f3-4a18-b347-3f87f823e2ba",
   "metadata": {},
   "outputs": [],
   "source": [
    "file_path='C:/Users/Valentina/Python/beginner_datasets/amazon.csv'\n",
    "amazon=pd.read_csv(file_path)"
   ]
  },
  {
   "cell_type": "markdown",
   "id": "f4271c1e-e0c3-4944-b2f5-d96f4f54adbc",
   "metadata": {},
   "source": [
    "### Valutiamo la dimensione del dataset"
   ]
  },
  {
   "cell_type": "code",
   "execution_count": 14,
   "id": "d3260953-57c8-4ac8-86e5-6a7c052faac1",
   "metadata": {},
   "outputs": [
    {
     "data": {
      "text/plain": [
       "(20000, 2)"
      ]
     },
     "execution_count": 14,
     "metadata": {},
     "output_type": "execute_result"
    }
   ],
   "source": [
    "amazon.shape"
   ]
  },
  {
   "cell_type": "markdown",
   "id": "52b53c66-47f0-4ed7-a774-fa226ba54736",
   "metadata": {},
   "source": [
    "### Visualizziamo dieci righe a caso"
   ]
  },
  {
   "cell_type": "code",
   "execution_count": 16,
   "id": "ef9563ef-9748-402a-9085-53f342890eeb",
   "metadata": {},
   "outputs": [
    {
     "data": {
      "text/html": [
       "<div>\n",
       "<style scoped>\n",
       "    .dataframe tbody tr th:only-of-type {\n",
       "        vertical-align: middle;\n",
       "    }\n",
       "\n",
       "    .dataframe tbody tr th {\n",
       "        vertical-align: top;\n",
       "    }\n",
       "\n",
       "    .dataframe thead th {\n",
       "        text-align: right;\n",
       "    }\n",
       "</style>\n",
       "<table border=\"1\" class=\"dataframe\">\n",
       "  <thead>\n",
       "    <tr style=\"text-align: right;\">\n",
       "      <th></th>\n",
       "      <th>reviewText</th>\n",
       "      <th>Positive</th>\n",
       "    </tr>\n",
       "  </thead>\n",
       "  <tbody>\n",
       "    <tr>\n",
       "      <th>10393</th>\n",
       "      <td>This has so many sounds to choose from and it ...</td>\n",
       "      <td>1</td>\n",
       "    </tr>\n",
       "    <tr>\n",
       "      <th>1450</th>\n",
       "      <td>This app does what I wanted. I just click on t...</td>\n",
       "      <td>1</td>\n",
       "    </tr>\n",
       "    <tr>\n",
       "      <th>11928</th>\n",
       "      <td>works really great on the kindle fire wakes yo...</td>\n",
       "      <td>1</td>\n",
       "    </tr>\n",
       "    <tr>\n",
       "      <th>13378</th>\n",
       "      <td>I like this app. I'm on a G2. It's becoming mo...</td>\n",
       "      <td>1</td>\n",
       "    </tr>\n",
       "    <tr>\n",
       "      <th>16317</th>\n",
       "      <td>just like the print version. Like the red lett...</td>\n",
       "      <td>1</td>\n",
       "    </tr>\n",
       "    <tr>\n",
       "      <th>5211</th>\n",
       "      <td>I write a lot of list. things pop in my head a...</td>\n",
       "      <td>1</td>\n",
       "    </tr>\n",
       "    <tr>\n",
       "      <th>7805</th>\n",
       "      <td>This app is really nice. It's easy and very ef...</td>\n",
       "      <td>1</td>\n",
       "    </tr>\n",
       "    <tr>\n",
       "      <th>5317</th>\n",
       "      <td>This is a child's connect the dots game. It fe...</td>\n",
       "      <td>1</td>\n",
       "    </tr>\n",
       "    <tr>\n",
       "      <th>13767</th>\n",
       "      <td>I wasn't sure if this app would keep my toddle...</td>\n",
       "      <td>1</td>\n",
       "    </tr>\n",
       "    <tr>\n",
       "      <th>1088</th>\n",
       "      <td>This is by far the best alarm available.  Trie...</td>\n",
       "      <td>1</td>\n",
       "    </tr>\n",
       "  </tbody>\n",
       "</table>\n",
       "</div>"
      ],
      "text/plain": [
       "                                              reviewText  Positive\n",
       "10393  This has so many sounds to choose from and it ...         1\n",
       "1450   This app does what I wanted. I just click on t...         1\n",
       "11928  works really great on the kindle fire wakes yo...         1\n",
       "13378  I like this app. I'm on a G2. It's becoming mo...         1\n",
       "16317  just like the print version. Like the red lett...         1\n",
       "5211   I write a lot of list. things pop in my head a...         1\n",
       "7805   This app is really nice. It's easy and very ef...         1\n",
       "5317   This is a child's connect the dots game. It fe...         1\n",
       "13767  I wasn't sure if this app would keep my toddle...         1\n",
       "1088   This is by far the best alarm available.  Trie...         1"
      ]
     },
     "execution_count": 16,
     "metadata": {},
     "output_type": "execute_result"
    }
   ],
   "source": [
    "amazon.sample(10)"
   ]
  },
  {
   "cell_type": "markdown",
   "id": "70d4f55a-cb68-441a-b13e-9ef98ff01632",
   "metadata": {},
   "source": [
    "### Osserviamo quali sono i nomi di colonna"
   ]
  },
  {
   "cell_type": "code",
   "execution_count": 18,
   "id": "2663e72e-c932-4c7a-9eaf-d7e6c5a81711",
   "metadata": {},
   "outputs": [
    {
     "data": {
      "text/plain": [
       "Index(['reviewText', 'Positive'], dtype='object')"
      ]
     },
     "execution_count": 18,
     "metadata": {},
     "output_type": "execute_result"
    }
   ],
   "source": [
    "amazon.columns"
   ]
  },
  {
   "cell_type": "markdown",
   "id": "d0af6d3c-ef27-41e1-b12b-76a7de5a9b68",
   "metadata": {},
   "source": [
    "### Il dataset è bilanciato, ovvero, il numero di recensioni positive è uguale a quello delle negative, oppure no?"
   ]
  },
  {
   "cell_type": "markdown",
   "id": "ed01c6c5-409f-436e-86dc-5d718864add7",
   "metadata": {},
   "source": [
    "#### metodo 1 per contare Positive:"
   ]
  },
  {
   "cell_type": "code",
   "execution_count": 37,
   "id": "7852ec7f-188e-4f63-a9cc-b669754383ae",
   "metadata": {},
   "outputs": [
    {
     "data": {
      "text/plain": [
       "Positive\n",
       "1    15233\n",
       "0     4767\n",
       "Name: count, dtype: int64"
      ]
     },
     "execution_count": 37,
     "metadata": {},
     "output_type": "execute_result"
    }
   ],
   "source": [
    "recensioni= amazon['Positive'].value_counts()\n",
    "recensioni"
   ]
  },
  {
   "cell_type": "markdown",
   "id": "6ae37eaf-f314-43cc-a10a-c7e53cbe2196",
   "metadata": {},
   "source": [
    "#### metodo 2 per contare Positive:"
   ]
  },
  {
   "cell_type": "code",
   "execution_count": 42,
   "id": "6fab727b-2d83-4aed-88ed-f61d3728f12f",
   "metadata": {},
   "outputs": [
    {
     "data": {
      "text/plain": [
       "0        1\n",
       "1        1\n",
       "2        1\n",
       "3        1\n",
       "4        1\n",
       "        ..\n",
       "19995    0\n",
       "19996    1\n",
       "19997    1\n",
       "19998    1\n",
       "19999    0\n",
       "Name: Positive, Length: 20000, dtype: int64"
      ]
     },
     "execution_count": 42,
     "metadata": {},
     "output_type": "execute_result"
    }
   ],
   "source": [
    "positive=amazon.loc[:, 'Positive']\n",
    "positive"
   ]
  },
  {
   "cell_type": "code",
   "execution_count": 46,
   "id": "924bd3af-936b-4e24-9895-3318d131d025",
   "metadata": {},
   "outputs": [
    {
     "name": "stdout",
     "output_type": "stream",
     "text": [
      "Il numero di recensioni positive è 3.20 volte quello delle recensioni negative\n"
     ]
    }
   ],
   "source": [
    "rapporto=recensioni[1]/recensioni[0]\n",
    "print('Il numero di recensioni positive è', '%.2f' % rapporto, 'volte quello delle recensioni negative') "
   ]
  }
 ],
 "metadata": {
  "kernelspec": {
   "display_name": "Python 3 (ipykernel)",
   "language": "python",
   "name": "python3"
  },
  "language_info": {
   "codemirror_mode": {
    "name": "ipython",
    "version": 3
   },
   "file_extension": ".py",
   "mimetype": "text/x-python",
   "name": "python",
   "nbconvert_exporter": "python",
   "pygments_lexer": "ipython3",
   "version": "3.11.7"
  }
 },
 "nbformat": 4,
 "nbformat_minor": 5
}
