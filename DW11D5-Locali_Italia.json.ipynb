{
 "cells": [
  {
   "cell_type": "markdown",
   "id": "cb5e205c-ecc9-4cf6-b188-21d74bd22192",
   "metadata": {},
   "source": [
    "# pub_map.json"
   ]
  },
  {
   "cell_type": "code",
   "execution_count": 2,
   "id": "114d2f17-ec78-4dcc-959c-89c5235949bc",
   "metadata": {},
   "outputs": [],
   "source": [
    "import pandas as pd"
   ]
  },
  {
   "cell_type": "code",
   "execution_count": 8,
   "id": "0c8f5b07-655d-495b-a0d2-ee0f8b8d8368",
   "metadata": {},
   "outputs": [],
   "source": [
    "path_or_buf='C:/Users/Valentina/Python/Mappa-dei-pub-circoli-locali-in-Italia.json'\n",
    "pub_map=pd.read_json(path_or_buf, encoding='latin1')"
   ]
  },
  {
   "cell_type": "code",
   "execution_count": 14,
   "id": "29752166-6cd6-4658-9641-082aa26edbe7",
   "metadata": {},
   "outputs": [
    {
     "data": {
      "text/html": [
       "<div>\n",
       "<style scoped>\n",
       "    .dataframe tbody tr th:only-of-type {\n",
       "        vertical-align: middle;\n",
       "    }\n",
       "\n",
       "    .dataframe tbody tr th {\n",
       "        vertical-align: top;\n",
       "    }\n",
       "\n",
       "    .dataframe thead th {\n",
       "        text-align: right;\n",
       "    }\n",
       "</style>\n",
       "<table border=\"1\" class=\"dataframe\">\n",
       "  <thead>\n",
       "    <tr style=\"text-align: right;\">\n",
       "      <th></th>\n",
       "      <th>ccomune</th>\n",
       "      <th>cprovincia</th>\n",
       "      <th>cregione</th>\n",
       "      <th>cnome</th>\n",
       "      <th>canno_inserimento</th>\n",
       "      <th>cdata_e_ora_inserimento</th>\n",
       "      <th>cidentificatore_in_openstreetmap</th>\n",
       "      <th>clongitudine</th>\n",
       "      <th>clatitudine</th>\n",
       "    </tr>\n",
       "  </thead>\n",
       "  <tbody>\n",
       "    <tr>\n",
       "      <th>0</th>\n",
       "      <td>ALTRO</td>\n",
       "      <td>ALTRO</td>\n",
       "      <td>ALTRO</td>\n",
       "      <td></td>\n",
       "      <td>2011</td>\n",
       "      <td>2011-06-25T23:17:43Z</td>\n",
       "      <td>1339088150</td>\n",
       "      <td>13.733257</td>\n",
       "      <td>45.575830</td>\n",
       "    </tr>\n",
       "    <tr>\n",
       "      <th>1</th>\n",
       "      <td>ALTRO</td>\n",
       "      <td>ALTRO</td>\n",
       "      <td>ALTRO</td>\n",
       "      <td>Lenny's Pub</td>\n",
       "      <td>2011</td>\n",
       "      <td>2011-07-29T17:22:56Z</td>\n",
       "      <td>1375887295</td>\n",
       "      <td>12.418681</td>\n",
       "      <td>46.747584</td>\n",
       "    </tr>\n",
       "    <tr>\n",
       "      <th>2</th>\n",
       "      <td>ALTRO</td>\n",
       "      <td>ALTRO</td>\n",
       "      <td>ALTRO</td>\n",
       "      <td>Murrayfield Pub</td>\n",
       "      <td>2015</td>\n",
       "      <td>2015-10-24T09:28:06Z</td>\n",
       "      <td>3323888102</td>\n",
       "      <td>9.029585</td>\n",
       "      <td>45.831340</td>\n",
       "    </tr>\n",
       "    <tr>\n",
       "      <th>3</th>\n",
       "      <td>ALTRO</td>\n",
       "      <td>ALTRO</td>\n",
       "      <td>ALTRO</td>\n",
       "      <td>Snop?e</td>\n",
       "      <td>2010</td>\n",
       "      <td>2010-09-22T08:32:52Z</td>\n",
       "      <td>921157802</td>\n",
       "      <td>13.640939</td>\n",
       "      <td>45.954607</td>\n",
       "    </tr>\n",
       "    <tr>\n",
       "      <th>4</th>\n",
       "      <td>Ala di Stura</td>\n",
       "      <td>TORINO</td>\n",
       "      <td>Piemonte</td>\n",
       "      <td></td>\n",
       "      <td>2012</td>\n",
       "      <td>2012-05-21T14:28:45Z</td>\n",
       "      <td>1760949034</td>\n",
       "      <td>7.307306</td>\n",
       "      <td>45.313150</td>\n",
       "    </tr>\n",
       "    <tr>\n",
       "      <th>...</th>\n",
       "      <td>...</td>\n",
       "      <td>...</td>\n",
       "      <td>...</td>\n",
       "      <td>...</td>\n",
       "      <td>...</td>\n",
       "      <td>...</td>\n",
       "      <td>...</td>\n",
       "      <td>...</td>\n",
       "      <td>...</td>\n",
       "    </tr>\n",
       "    <tr>\n",
       "      <th>2492</th>\n",
       "      <td>Barletta (BT)</td>\n",
       "      <td>BARLETTA ANDRIA TRANI</td>\n",
       "      <td>Puglia</td>\n",
       "      <td>Santa Croce</td>\n",
       "      <td>2010</td>\n",
       "      <td>2010-01-17T16:15:08Z</td>\n",
       "      <td>615632993</td>\n",
       "      <td>16.285782</td>\n",
       "      <td>41.320671</td>\n",
       "    </tr>\n",
       "    <tr>\n",
       "      <th>2493</th>\n",
       "      <td>Bisceglie (BT)</td>\n",
       "      <td>BARLETTA ANDRIA TRANI</td>\n",
       "      <td>Puglia</td>\n",
       "      <td>Auld Dublin</td>\n",
       "      <td>2014</td>\n",
       "      <td>2014-03-03T20:56:16Z</td>\n",
       "      <td>2613737619</td>\n",
       "      <td>16.497204</td>\n",
       "      <td>41.241814</td>\n",
       "    </tr>\n",
       "    <tr>\n",
       "      <th>2494</th>\n",
       "      <td>Bisceglie (BT)</td>\n",
       "      <td>BARLETTA ANDRIA TRANI</td>\n",
       "      <td>Puglia</td>\n",
       "      <td>Ferus</td>\n",
       "      <td>2014</td>\n",
       "      <td>2014-01-07T19:22:18Z</td>\n",
       "      <td>2613737620</td>\n",
       "      <td>16.506175</td>\n",
       "      <td>41.240957</td>\n",
       "    </tr>\n",
       "    <tr>\n",
       "      <th>2495</th>\n",
       "      <td>Trani (BT)</td>\n",
       "      <td>BARLETTA ANDRIA TRANI</td>\n",
       "      <td>Puglia</td>\n",
       "      <td>Re Artù</td>\n",
       "      <td>2009</td>\n",
       "      <td>2009-09-04T07:57:05Z</td>\n",
       "      <td>482836935</td>\n",
       "      <td>16.418124</td>\n",
       "      <td>41.281518</td>\n",
       "    </tr>\n",
       "    <tr>\n",
       "      <th>2496</th>\n",
       "      <td>Trani (BT)</td>\n",
       "      <td>BARLETTA ANDRIA TRANI</td>\n",
       "      <td>Puglia</td>\n",
       "      <td>Well's Fargo</td>\n",
       "      <td>2009</td>\n",
       "      <td>2009-08-10T12:44:03Z</td>\n",
       "      <td>387223648</td>\n",
       "      <td>16.436765</td>\n",
       "      <td>41.267264</td>\n",
       "    </tr>\n",
       "  </tbody>\n",
       "</table>\n",
       "<p>2497 rows × 9 columns</p>\n",
       "</div>"
      ],
      "text/plain": [
       "             ccomune             cprovincia  cregione            cnome  \\\n",
       "0              ALTRO                  ALTRO     ALTRO                    \n",
       "1              ALTRO                  ALTRO     ALTRO      Lenny's Pub   \n",
       "2              ALTRO                  ALTRO     ALTRO  Murrayfield Pub   \n",
       "3              ALTRO                  ALTRO     ALTRO           Snop?e   \n",
       "4       Ala di Stura                 TORINO  Piemonte                    \n",
       "...              ...                    ...       ...              ...   \n",
       "2492   Barletta (BT)  BARLETTA ANDRIA TRANI    Puglia      Santa Croce   \n",
       "2493  Bisceglie (BT)  BARLETTA ANDRIA TRANI    Puglia      Auld Dublin   \n",
       "2494  Bisceglie (BT)  BARLETTA ANDRIA TRANI    Puglia            Ferus   \n",
       "2495      Trani (BT)  BARLETTA ANDRIA TRANI    Puglia          Re Artù   \n",
       "2496      Trani (BT)  BARLETTA ANDRIA TRANI    Puglia     Well's Fargo   \n",
       "\n",
       "      canno_inserimento cdata_e_ora_inserimento  \\\n",
       "0                  2011    2011-06-25T23:17:43Z   \n",
       "1                  2011    2011-07-29T17:22:56Z   \n",
       "2                  2015    2015-10-24T09:28:06Z   \n",
       "3                  2010    2010-09-22T08:32:52Z   \n",
       "4                  2012    2012-05-21T14:28:45Z   \n",
       "...                 ...                     ...   \n",
       "2492               2010    2010-01-17T16:15:08Z   \n",
       "2493               2014    2014-03-03T20:56:16Z   \n",
       "2494               2014    2014-01-07T19:22:18Z   \n",
       "2495               2009    2009-09-04T07:57:05Z   \n",
       "2496               2009    2009-08-10T12:44:03Z   \n",
       "\n",
       "      cidentificatore_in_openstreetmap  clongitudine  clatitudine  \n",
       "0                           1339088150     13.733257    45.575830  \n",
       "1                           1375887295     12.418681    46.747584  \n",
       "2                           3323888102      9.029585    45.831340  \n",
       "3                            921157802     13.640939    45.954607  \n",
       "4                           1760949034      7.307306    45.313150  \n",
       "...                                ...           ...          ...  \n",
       "2492                         615632993     16.285782    41.320671  \n",
       "2493                        2613737619     16.497204    41.241814  \n",
       "2494                        2613737620     16.506175    41.240957  \n",
       "2495                         482836935     16.418124    41.281518  \n",
       "2496                         387223648     16.436765    41.267264  \n",
       "\n",
       "[2497 rows x 9 columns]"
      ]
     },
     "execution_count": 14,
     "metadata": {},
     "output_type": "execute_result"
    }
   ],
   "source": [
    "pub_map"
   ]
  },
  {
   "cell_type": "markdown",
   "id": "e1a3daf6-9fd1-4a30-8cef-b564c32ea439",
   "metadata": {},
   "source": [
    "### Quanti dati ci sono in totale?"
   ]
  },
  {
   "cell_type": "code",
   "execution_count": 22,
   "id": "61d25f89-2e2c-4673-ac49-d65e699a616c",
   "metadata": {},
   "outputs": [
    {
     "data": {
      "text/plain": [
       "(2497, 9)"
      ]
     },
     "execution_count": 22,
     "metadata": {},
     "output_type": "execute_result"
    }
   ],
   "source": [
    "pub_map.shape"
   ]
  },
  {
   "cell_type": "markdown",
   "id": "1c0e64ec-7238-4402-9bf3-c8e2add066b8",
   "metadata": {},
   "source": [
    "### Quali sono i metadati?"
   ]
  },
  {
   "cell_type": "code",
   "execution_count": 30,
   "id": "b9d9198b-c1e1-4a37-a7fe-fb2a329bf426",
   "metadata": {},
   "outputs": [
    {
     "data": {
      "text/plain": [
       "Index(['ccomune', 'cprovincia', 'cregione', 'cnome', 'canno_inserimento',\n",
       "       'cdata_e_ora_inserimento', 'cidentificatore_in_openstreetmap',\n",
       "       'clongitudine', 'clatitudine'],\n",
       "      dtype='object')"
      ]
     },
     "execution_count": 30,
     "metadata": {},
     "output_type": "execute_result"
    }
   ],
   "source": [
    "pub_map.columns"
   ]
  },
  {
   "cell_type": "markdown",
   "id": "a33d3d1b-8273-4be8-8c69-08d7d331a47b",
   "metadata": {},
   "source": [
    "### Stampiamo il primo elemento"
   ]
  },
  {
   "cell_type": "code",
   "execution_count": 32,
   "id": "90709758-e83e-4abf-9ee0-a7bf493735f3",
   "metadata": {},
   "outputs": [
    {
     "data": {
      "text/html": [
       "<div>\n",
       "<style scoped>\n",
       "    .dataframe tbody tr th:only-of-type {\n",
       "        vertical-align: middle;\n",
       "    }\n",
       "\n",
       "    .dataframe tbody tr th {\n",
       "        vertical-align: top;\n",
       "    }\n",
       "\n",
       "    .dataframe thead th {\n",
       "        text-align: right;\n",
       "    }\n",
       "</style>\n",
       "<table border=\"1\" class=\"dataframe\">\n",
       "  <thead>\n",
       "    <tr style=\"text-align: right;\">\n",
       "      <th></th>\n",
       "      <th>ccomune</th>\n",
       "      <th>cprovincia</th>\n",
       "      <th>cregione</th>\n",
       "      <th>cnome</th>\n",
       "      <th>canno_inserimento</th>\n",
       "      <th>cdata_e_ora_inserimento</th>\n",
       "      <th>cidentificatore_in_openstreetmap</th>\n",
       "      <th>clongitudine</th>\n",
       "      <th>clatitudine</th>\n",
       "    </tr>\n",
       "  </thead>\n",
       "  <tbody>\n",
       "    <tr>\n",
       "      <th>0</th>\n",
       "      <td>ALTRO</td>\n",
       "      <td>ALTRO</td>\n",
       "      <td>ALTRO</td>\n",
       "      <td></td>\n",
       "      <td>2011</td>\n",
       "      <td>2011-06-25T23:17:43Z</td>\n",
       "      <td>1339088150</td>\n",
       "      <td>13.733257</td>\n",
       "      <td>45.57583</td>\n",
       "    </tr>\n",
       "  </tbody>\n",
       "</table>\n",
       "</div>"
      ],
      "text/plain": [
       "  ccomune cprovincia cregione cnome  canno_inserimento  \\\n",
       "0   ALTRO      ALTRO    ALTRO                     2011   \n",
       "\n",
       "  cdata_e_ora_inserimento  cidentificatore_in_openstreetmap  clongitudine  \\\n",
       "0    2011-06-25T23:17:43Z                        1339088150     13.733257   \n",
       "\n",
       "   clatitudine  \n",
       "0     45.57583  "
      ]
     },
     "execution_count": 32,
     "metadata": {},
     "output_type": "execute_result"
    }
   ],
   "source": [
    "pub_map.head(1)"
   ]
  },
  {
   "cell_type": "markdown",
   "id": "a678c768-cbc7-4067-a2cf-dc7a62c5cd72",
   "metadata": {},
   "source": [
    "### Stampiamo l'ultimo elemento"
   ]
  },
  {
   "cell_type": "code",
   "execution_count": 34,
   "id": "b31ab10d-88d8-47ec-9e56-d327004efe2d",
   "metadata": {},
   "outputs": [
    {
     "data": {
      "text/html": [
       "<div>\n",
       "<style scoped>\n",
       "    .dataframe tbody tr th:only-of-type {\n",
       "        vertical-align: middle;\n",
       "    }\n",
       "\n",
       "    .dataframe tbody tr th {\n",
       "        vertical-align: top;\n",
       "    }\n",
       "\n",
       "    .dataframe thead th {\n",
       "        text-align: right;\n",
       "    }\n",
       "</style>\n",
       "<table border=\"1\" class=\"dataframe\">\n",
       "  <thead>\n",
       "    <tr style=\"text-align: right;\">\n",
       "      <th></th>\n",
       "      <th>ccomune</th>\n",
       "      <th>cprovincia</th>\n",
       "      <th>cregione</th>\n",
       "      <th>cnome</th>\n",
       "      <th>canno_inserimento</th>\n",
       "      <th>cdata_e_ora_inserimento</th>\n",
       "      <th>cidentificatore_in_openstreetmap</th>\n",
       "      <th>clongitudine</th>\n",
       "      <th>clatitudine</th>\n",
       "    </tr>\n",
       "  </thead>\n",
       "  <tbody>\n",
       "    <tr>\n",
       "      <th>2496</th>\n",
       "      <td>Trani (BT)</td>\n",
       "      <td>BARLETTA ANDRIA TRANI</td>\n",
       "      <td>Puglia</td>\n",
       "      <td>Well's Fargo</td>\n",
       "      <td>2009</td>\n",
       "      <td>2009-08-10T12:44:03Z</td>\n",
       "      <td>387223648</td>\n",
       "      <td>16.436765</td>\n",
       "      <td>41.267264</td>\n",
       "    </tr>\n",
       "  </tbody>\n",
       "</table>\n",
       "</div>"
      ],
      "text/plain": [
       "         ccomune             cprovincia cregione         cnome  \\\n",
       "2496  Trani (BT)  BARLETTA ANDRIA TRANI   Puglia  Well's Fargo   \n",
       "\n",
       "      canno_inserimento cdata_e_ora_inserimento  \\\n",
       "2496               2009    2009-08-10T12:44:03Z   \n",
       "\n",
       "      cidentificatore_in_openstreetmap  clongitudine  clatitudine  \n",
       "2496                         387223648     16.436765    41.267264  "
      ]
     },
     "execution_count": 34,
     "metadata": {},
     "output_type": "execute_result"
    }
   ],
   "source": [
    "pub_map.tail(1)"
   ]
  },
  {
   "cell_type": "markdown",
   "id": "a8899280-5455-4ac6-ae34-a54e3b3460ab",
   "metadata": {},
   "source": [
    "### Riusciamo a stampare un elemento a caso?"
   ]
  },
  {
   "cell_type": "code",
   "execution_count": 36,
   "id": "19e017af-ec88-4315-9ba6-770f96b986de",
   "metadata": {},
   "outputs": [
    {
     "data": {
      "text/html": [
       "<div>\n",
       "<style scoped>\n",
       "    .dataframe tbody tr th:only-of-type {\n",
       "        vertical-align: middle;\n",
       "    }\n",
       "\n",
       "    .dataframe tbody tr th {\n",
       "        vertical-align: top;\n",
       "    }\n",
       "\n",
       "    .dataframe thead th {\n",
       "        text-align: right;\n",
       "    }\n",
       "</style>\n",
       "<table border=\"1\" class=\"dataframe\">\n",
       "  <thead>\n",
       "    <tr style=\"text-align: right;\">\n",
       "      <th></th>\n",
       "      <th>ccomune</th>\n",
       "      <th>cprovincia</th>\n",
       "      <th>cregione</th>\n",
       "      <th>cnome</th>\n",
       "      <th>canno_inserimento</th>\n",
       "      <th>cdata_e_ora_inserimento</th>\n",
       "      <th>cidentificatore_in_openstreetmap</th>\n",
       "      <th>clongitudine</th>\n",
       "      <th>clatitudine</th>\n",
       "    </tr>\n",
       "  </thead>\n",
       "  <tbody>\n",
       "    <tr>\n",
       "      <th>1731</th>\n",
       "      <td>Sinalunga</td>\n",
       "      <td>SIENA</td>\n",
       "      <td>Toscana</td>\n",
       "      <td>Timory Pub</td>\n",
       "      <td>2012</td>\n",
       "      <td>2012-10-10T14:35:27Z</td>\n",
       "      <td>1956793274</td>\n",
       "      <td>11.80293</td>\n",
       "      <td>43.209007</td>\n",
       "    </tr>\n",
       "  </tbody>\n",
       "</table>\n",
       "</div>"
      ],
      "text/plain": [
       "        ccomune cprovincia cregione       cnome  canno_inserimento  \\\n",
       "1731  Sinalunga      SIENA  Toscana  Timory Pub               2012   \n",
       "\n",
       "     cdata_e_ora_inserimento  cidentificatore_in_openstreetmap  clongitudine  \\\n",
       "1731    2012-10-10T14:35:27Z                        1956793274      11.80293   \n",
       "\n",
       "      clatitudine  \n",
       "1731    43.209007  "
      ]
     },
     "execution_count": 36,
     "metadata": {},
     "output_type": "execute_result"
    }
   ],
   "source": [
    "pub_map.sample(1)"
   ]
  },
  {
   "cell_type": "markdown",
   "id": "50b595b8-4ff9-43fd-b16f-aeb82247c41a",
   "metadata": {},
   "source": [
    "### Quali sono gli anni di inserimento presenti?"
   ]
  },
  {
   "cell_type": "code",
   "execution_count": 105,
   "id": "ca70d2dc-e8d4-43d0-9366-472214c5ed46",
   "metadata": {},
   "outputs": [
    {
     "data": {
      "text/plain": [
       "[2007, 2008, 2009, 2010, 2011, 2012, 2013, 2014, 2015, 2016]"
      ]
     },
     "execution_count": 105,
     "metadata": {},
     "output_type": "execute_result"
    }
   ],
   "source": [
    "anni=pub_map['canno_inserimento'].unique()\n",
    "anni=sorted(anni)        #ordinare ASC i dati di un numpy array\n",
    "anni"
   ]
  },
  {
   "cell_type": "markdown",
   "id": "0d95fb87-47d3-4b6e-a4f2-783f6bfd849f",
   "metadata": {},
   "source": [
    "### Quante attività ci sono nel quadrato di longitudine 9-10 e latitudine 45-46?me?"
   ]
  },
  {
   "cell_type": "code",
   "execution_count": 174,
   "id": "15ca698d-1381-4d8d-9843-fc1a1358ed6d",
   "metadata": {},
   "outputs": [
    {
     "data": {
      "text/plain": [
       "303"
      ]
     },
     "execution_count": 174,
     "metadata": {},
     "output_type": "execute_result"
    }
   ],
   "source": [
    "long9_10=(pub_map ['clongitudine'] >=9) & (pub_map ['clongitudine'] <=10)   #filtro longitudine\n",
    "lat45_46=(pub_map ['clatitudine'] >=45) & (pub_map ['clatitudine'] <=46)    #filtro latitudine\n",
    "filtro=long9_10 & lat45_46                                                  #long+lat\n",
    "var=pub_map.loc[filtro]                                                     #con .loc seleziono il filtro delle due condizioni\n",
    "var.shape[0]       #con .shape vedo quante attività (ovvero quante righe) ci sono. uso [0] per avere come risultato solo il primo valore della tupla originaria "
   ]
  },
  {
   "cell_type": "markdown",
   "id": "d6f90cc7-c9e6-4ea4-ad12-adad66df1f75",
   "metadata": {},
   "source": [
    "### Quante attività ci sono nella provincia di Vicenza?"
   ]
  },
  {
   "cell_type": "markdown",
   "id": "92cc9480-4e34-4dc9-bb2d-6ad9ddf3e548",
   "metadata": {},
   "source": [
    "#### Metodo 1: MENO CONSIGLIATO"
   ]
  },
  {
   "cell_type": "code",
   "execution_count": 196,
   "id": "81136aa8-0117-4e47-851d-4a57c7fbc1e0",
   "metadata": {},
   "outputs": [
    {
     "data": {
      "text/plain": [
       "73"
      ]
     },
     "execution_count": 196,
     "metadata": {},
     "output_type": "execute_result"
    }
   ],
   "source": [
    "vicenza=pub_map['cprovincia']=='VICENZA'\n",
    "vicenza.sum()"
   ]
  },
  {
   "cell_type": "markdown",
   "id": "c4a4e690-0a68-449c-8e21-c5219a1871d6",
   "metadata": {},
   "source": [
    "#### Metodo 2:"
   ]
  },
  {
   "cell_type": "code",
   "execution_count": 221,
   "id": "d23afc5e-5e15-454e-b43b-52f210f2527f",
   "metadata": {},
   "outputs": [
    {
     "data": {
      "text/plain": [
       "73"
      ]
     },
     "execution_count": 221,
     "metadata": {},
     "output_type": "execute_result"
    }
   ],
   "source": [
    "filtro_vicenza=pub_map['cprovincia']=='VICENZA'\n",
    "pub_map_vicenza=pub_map.loc[filtro_vicenza]\n",
    "pub_map_vicenza.shape[0]"
   ]
  },
  {
   "cell_type": "markdown",
   "id": "81a0bf57-0de8-4390-ba99-dbcf1cbcbfb4",
   "metadata": {},
   "source": [
    "### Quante enoteche ci sono, e come si chiamano?"
   ]
  },
  {
   "cell_type": "code",
   "execution_count": 294,
   "id": "9e47f2b8-67d5-49a9-8bb3-879f5b54461e",
   "metadata": {},
   "outputs": [
    {
     "data": {
      "text/plain": [
       "1"
      ]
     },
     "execution_count": 294,
     "metadata": {},
     "output_type": "execute_result"
    }
   ],
   "source": [
    "filtro_vicenza=pub_map['cprovincia']=='VICENZA'\n",
    "filtro_enoteche=pub_map['cnome']=='enoteca'\n",
    "pub_map_enoteche= filtro_vicenza & filtro_enoteche\n",
    "pub_map_enoteche.nunique()"
   ]
  }
 ],
 "metadata": {
  "kernelspec": {
   "display_name": "Python 3 (ipykernel)",
   "language": "python",
   "name": "python3"
  },
  "language_info": {
   "codemirror_mode": {
    "name": "ipython",
    "version": 3
   },
   "file_extension": ".py",
   "mimetype": "text/x-python",
   "name": "python",
   "nbconvert_exporter": "python",
   "pygments_lexer": "ipython3",
   "version": "3.11.7"
  }
 },
 "nbformat": 4,
 "nbformat_minor": 5
}
